{
 "cells": [
  {
   "cell_type": "markdown",
   "metadata": {},
   "source": [
    "# Basic RNN\n",
    "- Objective: to understand basics of RNN & LSTM"
   ]
  },
  {
   "cell_type": "markdown",
   "metadata": {},
   "source": [
    "## Recurrent Neural Networks\n",
    "- Feedforward neural networks (e.g. MLPs and CNNs) are powerful, but they are not optimized to handle \"sequential\" data\n",
    "- In other words, they do not possess \"memory\" of previous inputs\n",
    "- For instance, consider the case of translating a corpus. You need to consider the **\"context\"** to guess the next word to come forward\n",
    "\n",
    "<img src=\"http://2.bp.blogspot.com/-9GIdV292xV4/UwOIy6B6koI/AAAAAAAAHi4/X6UGlyHI-_U/s1600/tumblr_ms5qzpFY671r9nm7io1_500.gif\" style=\"width: 500px\"/>\n",
    "\n",
    "<br>\n",
    "- RNNs are suitable for dealing with sequential format data since they have **\"recurrent\"** structure\n",
    "- To put it differently, they keep the **\"memory\"** of earlier inputs in the sequence\n",
    "</br>\n",
    "<img src=\"http://www.wildml.com/wp-content/uploads/2015/09/rnn.jpg\" style=\"width: 600px\"/>\n",
    "\n",
    "<br>\n",
    "- However, in order to reduce the number of parameters, every layer of different time steps shares same parameters\n",
    "</br>\n",
    "\n",
    "<img src=\"http://colah.github.io/posts/2015-08-Understanding-LSTMs/img/RNN-unrolled.png\" style=\"width: 600px\"/>"
   ]
  },
  {
   "cell_type": "markdown",
   "metadata": {},
   "source": [
    "## Load Dataset"
   ]
  },
  {
   "cell_type": "code",
   "execution_count": 1,
   "metadata": {},
   "outputs": [
    {
     "name": "stderr",
     "output_type": "stream",
     "text": [
      "c:\\users\\heath\\appdata\\local\\programs\\python\\python36\\lib\\site-packages\\h5py\\__init__.py:36: FutureWarning: Conversion of the second argument of issubdtype from `float` to `np.floating` is deprecated. In future, it will be treated as `np.float64 == np.dtype(float).type`.\n",
      "  from ._conv import register_converters as _register_converters\n",
      "Using TensorFlow backend.\n"
     ]
    }
   ],
   "source": [
    "import numpy as np\n",
    "\n",
    "from sklearn.metrics import accuracy_score\n",
    "from keras.datasets import reuters\n",
    "from keras.preprocessing.sequence import pad_sequences\n",
    "from keras.utils import to_categorical"
   ]
  },
  {
   "cell_type": "code",
   "execution_count": 2,
   "metadata": {},
   "outputs": [],
   "source": [
    "# parameters for data load\n",
    "num_words = 30000\n",
    "maxlen = 50\n",
    "test_split = 0.3"
   ]
  },
  {
   "cell_type": "code",
   "execution_count": 7,
   "metadata": {},
   "outputs": [],
   "source": [
    "(X_train, y_train), (X_test, y_test) = reuters.load_data(num_words = num_words, maxlen = maxlen, test_split = test_split)"
   ]
  },
  {
   "cell_type": "code",
   "execution_count": 8,
   "metadata": {},
   "outputs": [
    {
     "data": {
      "text/plain": [
       "array([list([1, 245, 273, 207, 156, 53, 74, 160, 26, 14, 46, 296, 26, 39, 74, 2979, 3554, 14, 46, 4689, 4329, 86, 61, 3499, 4795, 14, 61, 451, 4329, 17, 12]),\n",
       "       list([1, 486, 341, 785, 26, 14, 482, 26, 255, 606, 252, 83, 146, 91, 102, 17, 12]),\n",
       "       list([1, 245, 273, 397, 124, 53, 191, 26, 14, 83, 26, 39, 32, 32, 11, 14, 19, 12, 11, 88, 279, 59, 11, 14, 472, 59, 11, 17, 12]),\n",
       "       ...,\n",
       "       list([1, 53, 102, 26, 14, 158, 26, 39, 4630, 6694, 14, 3832, 4032, 88, 32, 8204, 5623, 14, 32, 4881, 5006, 29, 53, 841, 26, 14, 425, 26, 39, 5578, 4744, 14, 4693, 2442, 88, 83, 72, 11, 14, 72, 7473, 6173, 17, 12]),\n",
       "       list([1, 53, 46, 160, 26, 46, 5352, 2637, 86, 160, 5191, 3302, 123, 943, 396, 4500, 207, 48, 17, 12]),\n",
       "       list([1, 3840, 341, 353, 26, 14, 61, 19, 26, 255, 219, 93, 124, 146, 93, 102, 123, 4433, 274, 1146, 131, 664, 338, 721, 17, 12])],\n",
       "      dtype=object)"
      ]
     },
     "execution_count": 8,
     "metadata": {},
     "output_type": "execute_result"
    }
   ],
   "source": [
    "X_train"
   ]
  },
  {
   "cell_type": "code",
   "execution_count": 9,
   "metadata": {},
   "outputs": [],
   "source": [
    "# pad the sequences with zeros \n",
    "# padding parameter is set to 'post' => 0's are appended to end of sequences\n",
    "X_train = pad_sequences(X_train, padding = 'post')\n",
    "X_test = pad_sequences(X_test, padding = 'post')"
   ]
  },
  {
   "cell_type": "code",
   "execution_count": 10,
   "metadata": {},
   "outputs": [
    {
     "data": {
      "text/plain": [
       "array([[   1,  245,  273, ...,    0,    0,    0],\n",
       "       [   1,  486,  341, ...,    0,    0,    0],\n",
       "       [   1,  245,  273, ...,    0,    0,    0],\n",
       "       ...,\n",
       "       [   1,   53,  102, ...,    0,    0,    0],\n",
       "       [   1,   53,   46, ...,    0,    0,    0],\n",
       "       [   1, 3840,  341, ...,    0,    0,    0]])"
      ]
     },
     "execution_count": 10,
     "metadata": {},
     "output_type": "execute_result"
    }
   ],
   "source": [
    "X_train"
   ]
  },
  {
   "cell_type": "code",
   "execution_count": 11,
   "metadata": {},
   "outputs": [],
   "source": [
    "X_train = np.array(X_train).reshape((X_train.shape[0], X_train.shape[1], 1))\n",
    "X_test = np.array(X_test).reshape((X_test.shape[0], X_test.shape[1], 1))"
   ]
  },
  {
   "cell_type": "code",
   "execution_count": 12,
   "metadata": {},
   "outputs": [],
   "source": [
    "y_data = np.concatenate((y_train, y_test))\n",
    "y_data = to_categorical(y_data)"
   ]
  },
  {
   "cell_type": "code",
   "execution_count": 13,
   "metadata": {},
   "outputs": [],
   "source": [
    "y_train = y_data[:1395]\n",
    "y_test = y_data[1395:]"
   ]
  },
  {
   "cell_type": "code",
   "execution_count": 14,
   "metadata": {},
   "outputs": [
    {
     "name": "stdout",
     "output_type": "stream",
     "text": [
      "(1395, 49, 1)\n",
      "(599, 49, 1)\n",
      "(1395, 46)\n",
      "(599, 46)\n"
     ]
    }
   ],
   "source": [
    "print(X_train.shape)\n",
    "print(X_test.shape)\n",
    "print(y_train.shape)\n",
    "print(y_test.shape)"
   ]
  },
  {
   "cell_type": "markdown",
   "metadata": {},
   "source": [
    "## 1. Vanilla RNN\n",
    "- Vanilla RNNs have a simple structure\n",
    "- However, they suffer from the problem of \"long-term dependencies\"\n",
    "- Hence, they are not able to keep the **sequential memory\" for long\n",
    "\n",
    "<img src=\"http://colah.github.io/posts/2015-08-Understanding-LSTMs/img/LSTM3-SimpleRNN.png\" style=\"width: 600px\"/>"
   ]
  },
  {
   "cell_type": "code",
   "execution_count": 20,
   "metadata": {},
   "outputs": [],
   "source": [
    "from keras.models import Sequential\n",
    "from keras.layers import Dense, SimpleRNN, Activation\n",
    "from keras import optimizers\n",
    "from keras.wrappers.scikit_learn import KerasClassifier"
   ]
  },
  {
   "cell_type": "code",
   "execution_count": 21,
   "metadata": {},
   "outputs": [],
   "source": [
    "def vanilla_rnn():\n",
    "    model = Sequential()\n",
    "    model.add(SimpleRNN(50, input_shape = (49,1), return_sequences = False))\n",
    "    model.add(Dense(46))\n",
    "    model.add(Activation('softmax'))\n",
    "    \n",
    "    adam = optimizers.Adam(lr = 0.001)\n",
    "    model.compile(loss = 'categorical_crossentropy', optimizer = adam, metrics = ['accuracy'])\n",
    "    \n",
    "    return model"
   ]
  },
  {
   "cell_type": "code",
   "execution_count": 22,
   "metadata": {},
   "outputs": [],
   "source": [
    "model = KerasClassifier(build_fn = vanilla_rnn, epochs = 200, batch_size = 50, verbose = 1)"
   ]
  },
  {
   "cell_type": "code",
   "execution_count": 23,
   "metadata": {
    "scrolled": true
   },
   "outputs": [
    {
     "name": "stdout",
     "output_type": "stream",
     "text": [
      "Epoch 1/200\n",
      "1395/1395 [==============================] - 1s 634us/step - loss: 2.9124 - acc: 0.5011\n",
      "Epoch 2/200\n",
      "1395/1395 [==============================] - 1s 415us/step - loss: 1.3720 - acc: 0.7082\n",
      "Epoch 3/200\n",
      "1395/1395 [==============================] - 1s 397us/step - loss: 1.1989 - acc: 0.7147\n",
      "Epoch 4/200\n",
      "1395/1395 [==============================] - 1s 385us/step - loss: 1.1721 - acc: 0.7147\n",
      "Epoch 5/200\n",
      "1395/1395 [==============================] - 1s 417us/step - loss: 1.1641 - acc: 0.7147\n",
      "Epoch 6/200\n",
      "1395/1395 [==============================] - 1s 441us/step - loss: 1.1608 - acc: 0.7147\n",
      "Epoch 7/200\n",
      "1395/1395 [==============================] - 1s 426us/step - loss: 1.1572 - acc: 0.7147\n",
      "Epoch 8/200\n",
      "1395/1395 [==============================] - 1s 434us/step - loss: 1.1576 - acc: 0.7147\n",
      "Epoch 9/200\n",
      "1395/1395 [==============================] - 1s 437us/step - loss: 1.1547 - acc: 0.7147\n",
      "Epoch 10/200\n",
      "1395/1395 [==============================] - 1s 481us/step - loss: 1.1531 - acc: 0.7147\n",
      "Epoch 11/200\n",
      "1395/1395 [==============================] - 1s 423us/step - loss: 1.1516 - acc: 0.7147\n",
      "Epoch 12/200\n",
      "1395/1395 [==============================] - 1s 434us/step - loss: 1.1532 - acc: 0.7147\n",
      "Epoch 13/200\n",
      "1395/1395 [==============================] - 1s 406us/step - loss: 1.1509 - acc: 0.7147\n",
      "Epoch 14/200\n",
      "1395/1395 [==============================] - 1s 405us/step - loss: 1.1527 - acc: 0.7147\n",
      "Epoch 15/200\n",
      "1395/1395 [==============================] - 1s 390us/step - loss: 1.1525 - acc: 0.7147\n",
      "Epoch 16/200\n",
      "1395/1395 [==============================] - 1s 411us/step - loss: 1.1488 - acc: 0.7147\n",
      "Epoch 17/200\n",
      "1395/1395 [==============================] - 1s 427us/step - loss: 1.1490 - acc: 0.7147\n",
      "Epoch 18/200\n",
      "1395/1395 [==============================] - 1s 402us/step - loss: 1.1464 - acc: 0.7147 0s - loss: 1.1627 - acc: 0.\n",
      "Epoch 19/200\n",
      "1395/1395 [==============================] - 1s 412us/step - loss: 1.1454 - acc: 0.7147\n",
      "Epoch 20/200\n",
      "1395/1395 [==============================] - 1s 408us/step - loss: 1.1455 - acc: 0.7147\n",
      "Epoch 21/200\n",
      "1395/1395 [==============================] - 1s 389us/step - loss: 1.1441 - acc: 0.7147\n",
      "Epoch 22/200\n",
      "1395/1395 [==============================] - 1s 390us/step - loss: 1.1457 - acc: 0.7147\n",
      "Epoch 23/200\n",
      "1395/1395 [==============================] - 1s 449us/step - loss: 1.1443 - acc: 0.7147\n",
      "Epoch 24/200\n",
      "1395/1395 [==============================] - 1s 437us/step - loss: 1.1453 - acc: 0.7147\n",
      "Epoch 25/200\n",
      "1395/1395 [==============================] - 1s 452us/step - loss: 1.1426 - acc: 0.7147\n",
      "Epoch 26/200\n",
      "1395/1395 [==============================] - 1s 456us/step - loss: 1.1413 - acc: 0.7147\n",
      "Epoch 27/200\n",
      "1395/1395 [==============================] - 1s 450us/step - loss: 1.1414 - acc: 0.7147\n",
      "Epoch 28/200\n",
      "1395/1395 [==============================] - 1s 423us/step - loss: 1.1405 - acc: 0.7147\n",
      "Epoch 29/200\n",
      "1395/1395 [==============================] - 1s 408us/step - loss: 1.1427 - acc: 0.7147\n",
      "Epoch 30/200\n",
      "1395/1395 [==============================] - 1s 418us/step - loss: 1.1420 - acc: 0.7147\n",
      "Epoch 31/200\n",
      "1395/1395 [==============================] - 1s 399us/step - loss: 1.1396 - acc: 0.7147\n",
      "Epoch 32/200\n",
      "1395/1395 [==============================] - 1s 450us/step - loss: 1.1392 - acc: 0.7147\n",
      "Epoch 33/200\n",
      "1395/1395 [==============================] - 1s 442us/step - loss: 1.1376 - acc: 0.7147\n",
      "Epoch 34/200\n",
      "1395/1395 [==============================] - 1s 442us/step - loss: 1.1362 - acc: 0.7140\n",
      "Epoch 35/200\n",
      "1395/1395 [==============================] - 1s 410us/step - loss: 1.1377 - acc: 0.7154\n",
      "Epoch 36/200\n",
      "1395/1395 [==============================] - 1s 400us/step - loss: 1.1368 - acc: 0.7154\n",
      "Epoch 37/200\n",
      "1395/1395 [==============================] - 1s 409us/step - loss: 1.1356 - acc: 0.7147\n",
      "Epoch 38/200\n",
      "1395/1395 [==============================] - 1s 396us/step - loss: 1.1362 - acc: 0.7125\n",
      "Epoch 39/200\n",
      "1395/1395 [==============================] - 1s 402us/step - loss: 1.1354 - acc: 0.7147\n",
      "Epoch 40/200\n",
      "1395/1395 [==============================] - 1s 412us/step - loss: 1.1331 - acc: 0.7147\n",
      "Epoch 41/200\n",
      "1395/1395 [==============================] - 1s 394us/step - loss: 1.1323 - acc: 0.7147\n",
      "Epoch 42/200\n",
      "1395/1395 [==============================] - 1s 394us/step - loss: 1.1309 - acc: 0.7161\n",
      "Epoch 43/200\n",
      "1395/1395 [==============================] - 1s 424us/step - loss: 1.1328 - acc: 0.7133\n",
      "Epoch 44/200\n",
      "1395/1395 [==============================] - 1s 415us/step - loss: 1.1320 - acc: 0.7154\n",
      "Epoch 45/200\n",
      "1395/1395 [==============================] - 1s 420us/step - loss: 1.1299 - acc: 0.7154\n",
      "Epoch 46/200\n",
      "1395/1395 [==============================] - 1s 428us/step - loss: 1.1298 - acc: 0.7154\n",
      "Epoch 47/200\n",
      "1395/1395 [==============================] - 1s 393us/step - loss: 1.1275 - acc: 0.7168\n",
      "Epoch 48/200\n",
      "1395/1395 [==============================] - 1s 392us/step - loss: 1.1259 - acc: 0.7161\n",
      "Epoch 49/200\n",
      "1395/1395 [==============================] - 1s 406us/step - loss: 1.1260 - acc: 0.7161\n",
      "Epoch 50/200\n",
      "1395/1395 [==============================] - 1s 413us/step - loss: 1.1251 - acc: 0.7161\n",
      "Epoch 51/200\n",
      "1395/1395 [==============================] - 1s 416us/step - loss: 1.1223 - acc: 0.7168\n",
      "Epoch 52/200\n",
      "1395/1395 [==============================] - 1s 444us/step - loss: 1.1229 - acc: 0.7168\n",
      "Epoch 53/200\n",
      "1395/1395 [==============================] - 1s 450us/step - loss: 1.1222 - acc: 0.7140\n",
      "Epoch 54/200\n",
      "1395/1395 [==============================] - 1s 417us/step - loss: 1.1203 - acc: 0.7133\n",
      "Epoch 55/200\n",
      "1395/1395 [==============================] - 1s 410us/step - loss: 1.1188 - acc: 0.7147\n",
      "Epoch 56/200\n",
      "1395/1395 [==============================] - 1s 414us/step - loss: 1.1158 - acc: 0.7176\n",
      "Epoch 57/200\n",
      "1395/1395 [==============================] - 1s 411us/step - loss: 1.1152 - acc: 0.7161\n",
      "Epoch 58/200\n",
      "1395/1395 [==============================] - 1s 458us/step - loss: 1.1078 - acc: 0.7168\n",
      "Epoch 59/200\n",
      "1395/1395 [==============================] - 1s 433us/step - loss: 1.1107 - acc: 0.7140\n",
      "Epoch 60/200\n",
      "1395/1395 [==============================] - 1s 410us/step - loss: 1.0986 - acc: 0.7125\n",
      "Epoch 61/200\n",
      "1395/1395 [==============================] - 1s 418us/step - loss: 1.1042 - acc: 0.7219\n",
      "Epoch 62/200\n",
      "1395/1395 [==============================] - 1s 410us/step - loss: 1.0737 - acc: 0.7190\n",
      "Epoch 63/200\n",
      "1395/1395 [==============================] - 1s 403us/step - loss: 1.1033 - acc: 0.7140\n",
      "Epoch 64/200\n",
      "1395/1395 [==============================] - 1s 411us/step - loss: 1.0641 - acc: 0.7176\n",
      "Epoch 65/200\n",
      "1395/1395 [==============================] - 1s 397us/step - loss: 1.0537 - acc: 0.7176\n",
      "Epoch 66/200\n",
      "1395/1395 [==============================] - 1s 420us/step - loss: 1.0501 - acc: 0.7133\n",
      "Epoch 67/200\n",
      "1395/1395 [==============================] - 1s 398us/step - loss: 1.0388 - acc: 0.7154\n",
      "Epoch 68/200\n",
      "1395/1395 [==============================] - 1s 405us/step - loss: 1.0280 - acc: 0.7204\n",
      "Epoch 69/200\n",
      "1395/1395 [==============================] - 1s 405us/step - loss: 1.0243 - acc: 0.7297\n",
      "Epoch 70/200\n",
      "1395/1395 [==============================] - 1s 444us/step - loss: 1.0365 - acc: 0.7183\n",
      "Epoch 71/200\n",
      "1395/1395 [==============================] - 1s 435us/step - loss: 1.0088 - acc: 0.7262\n",
      "Epoch 72/200\n",
      "1395/1395 [==============================] - 1s 406us/step - loss: 0.9961 - acc: 0.7233\n",
      "Epoch 73/200\n",
      "1395/1395 [==============================] - 1s 424us/step - loss: 0.9959 - acc: 0.7283\n",
      "Epoch 74/200\n",
      "1395/1395 [==============================] - 1s 436us/step - loss: 1.0454 - acc: 0.7183\n",
      "Epoch 75/200\n",
      "1395/1395 [==============================] - 1s 424us/step - loss: 1.0376 - acc: 0.7204\n",
      "Epoch 76/200\n",
      "1395/1395 [==============================] - 1s 447us/step - loss: 1.0235 - acc: 0.7240\n",
      "Epoch 77/200\n",
      "1395/1395 [==============================] - 1s 422us/step - loss: 0.9869 - acc: 0.7262\n",
      "Epoch 78/200\n",
      "1395/1395 [==============================] - 1s 436us/step - loss: 0.9879 - acc: 0.7262\n",
      "Epoch 79/200\n",
      "1395/1395 [==============================] - 1s 428us/step - loss: 0.9815 - acc: 0.7276\n",
      "Epoch 80/200\n",
      "1395/1395 [==============================] - 1s 442us/step - loss: 0.9759 - acc: 0.7262\n",
      "Epoch 81/200\n"
     ]
    },
    {
     "name": "stdout",
     "output_type": "stream",
     "text": [
      "1395/1395 [==============================] - 1s 446us/step - loss: 0.9744 - acc: 0.7283\n",
      "Epoch 82/200\n",
      "1395/1395 [==============================] - 1s 414us/step - loss: 0.9672 - acc: 0.7276\n",
      "Epoch 83/200\n",
      "1395/1395 [==============================] - 1s 452us/step - loss: 0.9592 - acc: 0.7262\n",
      "Epoch 84/200\n",
      "1395/1395 [==============================] - 1s 431us/step - loss: 0.9660 - acc: 0.7219\n",
      "Epoch 85/200\n",
      "1395/1395 [==============================] - 1s 404us/step - loss: 0.9601 - acc: 0.7276 0s - loss: 0.9560 - acc: 0\n",
      "Epoch 86/200\n",
      "1395/1395 [==============================] - 1s 400us/step - loss: 0.9513 - acc: 0.7355\n",
      "Epoch 87/200\n",
      "1395/1395 [==============================] - 1s 472us/step - loss: 0.9459 - acc: 0.7348\n",
      "Epoch 88/200\n",
      "1395/1395 [==============================] - 1s 430us/step - loss: 0.9480 - acc: 0.7312\n",
      "Epoch 89/200\n",
      "1395/1395 [==============================] - 1s 412us/step - loss: 0.9505 - acc: 0.7341\n",
      "Epoch 90/200\n",
      "1395/1395 [==============================] - 1s 466us/step - loss: 0.9499 - acc: 0.7319\n",
      "Epoch 91/200\n",
      "1395/1395 [==============================] - 1s 448us/step - loss: 0.9442 - acc: 0.7326\n",
      "Epoch 92/200\n",
      "1395/1395 [==============================] - 1s 428us/step - loss: 0.9350 - acc: 0.7297\n",
      "Epoch 93/200\n",
      "1395/1395 [==============================] - 1s 450us/step - loss: 0.9356 - acc: 0.7333\n",
      "Epoch 94/200\n",
      "1395/1395 [==============================] - 1s 456us/step - loss: 0.9367 - acc: 0.7355\n",
      "Epoch 95/200\n",
      "1395/1395 [==============================] - 1s 493us/step - loss: 0.9257 - acc: 0.7341\n",
      "Epoch 96/200\n",
      "1395/1395 [==============================] - 1s 440us/step - loss: 0.9271 - acc: 0.7348\n",
      "Epoch 97/200\n",
      "1395/1395 [==============================] - 1s 444us/step - loss: 0.9321 - acc: 0.7355\n",
      "Epoch 98/200\n",
      "1395/1395 [==============================] - 1s 418us/step - loss: 0.9206 - acc: 0.7405\n",
      "Epoch 99/200\n",
      "1395/1395 [==============================] - 1s 438us/step - loss: 0.9124 - acc: 0.7369\n",
      "Epoch 100/200\n",
      "1395/1395 [==============================] - 1s 457us/step - loss: 0.9221 - acc: 0.7412\n",
      "Epoch 101/200\n",
      "1395/1395 [==============================] - 1s 452us/step - loss: 0.9070 - acc: 0.7376\n",
      "Epoch 102/200\n",
      "1395/1395 [==============================] - 1s 410us/step - loss: 0.9047 - acc: 0.7398\n",
      "Epoch 103/200\n",
      "1395/1395 [==============================] - 1s 452us/step - loss: 0.8908 - acc: 0.7462\n",
      "Epoch 104/200\n",
      "1395/1395 [==============================] - 1s 419us/step - loss: 0.8892 - acc: 0.7448\n",
      "Epoch 105/200\n",
      "1395/1395 [==============================] - 1s 439us/step - loss: 0.8971 - acc: 0.7412\n",
      "Epoch 106/200\n",
      "1395/1395 [==============================] - 1s 424us/step - loss: 0.8994 - acc: 0.7405\n",
      "Epoch 107/200\n",
      "1395/1395 [==============================] - 1s 468us/step - loss: 0.8945 - acc: 0.7398\n",
      "Epoch 108/200\n",
      "1395/1395 [==============================] - 1s 436us/step - loss: 0.8842 - acc: 0.7391\n",
      "Epoch 109/200\n",
      "1395/1395 [==============================] - 1s 469us/step - loss: 0.8837 - acc: 0.7427\n",
      "Epoch 110/200\n",
      "1395/1395 [==============================] - 1s 468us/step - loss: 0.8908 - acc: 0.7419\n",
      "Epoch 111/200\n",
      "1395/1395 [==============================] - 1s 423us/step - loss: 0.8856 - acc: 0.7398\n",
      "Epoch 112/200\n",
      "1395/1395 [==============================] - 1s 411us/step - loss: 0.8958 - acc: 0.7376\n",
      "Epoch 113/200\n",
      "1395/1395 [==============================] - 1s 424us/step - loss: 0.8724 - acc: 0.7477\n",
      "Epoch 114/200\n",
      "1395/1395 [==============================] - 1s 440us/step - loss: 0.8641 - acc: 0.7455\n",
      "Epoch 115/200\n",
      "1395/1395 [==============================] - 1s 427us/step - loss: 0.8623 - acc: 0.7470\n",
      "Epoch 116/200\n",
      "1395/1395 [==============================] - 1s 447us/step - loss: 0.8654 - acc: 0.7412\n",
      "Epoch 117/200\n",
      "1395/1395 [==============================] - 1s 405us/step - loss: 0.8649 - acc: 0.7384\n",
      "Epoch 118/200\n",
      "1395/1395 [==============================] - 1s 413us/step - loss: 0.8717 - acc: 0.7448\n",
      "Epoch 119/200\n",
      "1395/1395 [==============================] - 1s 430us/step - loss: 0.9520 - acc: 0.7283\n",
      "Epoch 120/200\n",
      "1395/1395 [==============================] - 1s 411us/step - loss: 0.9712 - acc: 0.7269\n",
      "Epoch 121/200\n",
      "1395/1395 [==============================] - 1s 411us/step - loss: 0.9190 - acc: 0.7326\n",
      "Epoch 122/200\n",
      "1395/1395 [==============================] - 1s 419us/step - loss: 0.9049 - acc: 0.7384\n",
      "Epoch 123/200\n",
      "1395/1395 [==============================] - 1s 421us/step - loss: 0.8936 - acc: 0.7376\n",
      "Epoch 124/200\n",
      "1395/1395 [==============================] - 1s 433us/step - loss: 0.8924 - acc: 0.7391\n",
      "Epoch 125/200\n",
      "1395/1395 [==============================] - 1s 429us/step - loss: 0.8770 - acc: 0.7398\n",
      "Epoch 126/200\n",
      "1395/1395 [==============================] - 1s 403us/step - loss: 0.8686 - acc: 0.7405\n",
      "Epoch 127/200\n",
      "1395/1395 [==============================] - 1s 413us/step - loss: 0.8694 - acc: 0.7405\n",
      "Epoch 128/200\n",
      "1395/1395 [==============================] - 1s 436us/step - loss: 0.8517 - acc: 0.7441\n",
      "Epoch 129/200\n",
      "1395/1395 [==============================] - 1s 412us/step - loss: 0.8385 - acc: 0.7470\n",
      "Epoch 130/200\n",
      "1395/1395 [==============================] - 1s 391us/step - loss: 0.8383 - acc: 0.7498\n",
      "Epoch 131/200\n",
      "1395/1395 [==============================] - 1s 404us/step - loss: 0.8412 - acc: 0.7412\n",
      "Epoch 132/200\n",
      "1395/1395 [==============================] - 1s 415us/step - loss: 0.8358 - acc: 0.7470\n",
      "Epoch 133/200\n",
      "1395/1395 [==============================] - 1s 518us/step - loss: 0.8321 - acc: 0.7498\n",
      "Epoch 134/200\n",
      "1395/1395 [==============================] - 1s 424us/step - loss: 0.8345 - acc: 0.7427\n",
      "Epoch 135/200\n",
      "1395/1395 [==============================] - 1s 425us/step - loss: 0.8349 - acc: 0.7491\n",
      "Epoch 136/200\n",
      "1395/1395 [==============================] - 1s 430us/step - loss: 0.8317 - acc: 0.7505\n",
      "Epoch 137/200\n",
      "1395/1395 [==============================] - 1s 439us/step - loss: 0.8743 - acc: 0.7384\n",
      "Epoch 138/200\n",
      "1395/1395 [==============================] - 1s 467us/step - loss: 0.8514 - acc: 0.7405\n",
      "Epoch 139/200\n",
      "1395/1395 [==============================] - 1s 440us/step - loss: 0.8358 - acc: 0.7419\n",
      "Epoch 140/200\n",
      "1395/1395 [==============================] - 1s 443us/step - loss: 0.8294 - acc: 0.7477\n",
      "Epoch 141/200\n",
      "1395/1395 [==============================] - 1s 447us/step - loss: 0.8222 - acc: 0.7505\n",
      "Epoch 142/200\n",
      "1395/1395 [==============================] - 1s 446us/step - loss: 0.8196 - acc: 0.7527\n",
      "Epoch 143/200\n",
      "1395/1395 [==============================] - 1s 404us/step - loss: 0.8194 - acc: 0.7527\n",
      "Epoch 144/200\n",
      "1395/1395 [==============================] - 1s 430us/step - loss: 0.8219 - acc: 0.7427\n",
      "Epoch 145/200\n",
      "1395/1395 [==============================] - 1s 422us/step - loss: 0.8183 - acc: 0.7441\n",
      "Epoch 146/200\n",
      "1395/1395 [==============================] - 1s 415us/step - loss: 0.8075 - acc: 0.7513\n",
      "Epoch 147/200\n",
      "1395/1395 [==============================] - 1s 402us/step - loss: 0.8050 - acc: 0.7563\n",
      "Epoch 148/200\n",
      "1395/1395 [==============================] - 1s 419us/step - loss: 0.8067 - acc: 0.7513\n",
      "Epoch 149/200\n",
      "1395/1395 [==============================] - 1s 428us/step - loss: 0.8047 - acc: 0.7520\n",
      "Epoch 150/200\n",
      "1395/1395 [==============================] - 1s 425us/step - loss: 0.8122 - acc: 0.7563\n",
      "Epoch 151/200\n",
      "1395/1395 [==============================] - 1s 424us/step - loss: 0.8102 - acc: 0.7434\n",
      "Epoch 152/200\n",
      "1395/1395 [==============================] - 1s 416us/step - loss: 0.7993 - acc: 0.7548\n",
      "Epoch 153/200\n",
      "1395/1395 [==============================] - 1s 418us/step - loss: 0.7955 - acc: 0.7570\n",
      "Epoch 154/200\n",
      "1395/1395 [==============================] - 1s 403us/step - loss: 0.7960 - acc: 0.7520\n",
      "Epoch 155/200\n",
      "1395/1395 [==============================] - 1s 424us/step - loss: 0.7898 - acc: 0.7556\n",
      "Epoch 156/200\n",
      "1395/1395 [==============================] - 1s 422us/step - loss: 0.7935 - acc: 0.7534\n",
      "Epoch 157/200\n",
      "1395/1395 [==============================] - 1s 419us/step - loss: 0.8130 - acc: 0.7448\n",
      "Epoch 158/200\n",
      "1395/1395 [==============================] - 1s 440us/step - loss: 0.8066 - acc: 0.7455\n",
      "Epoch 159/200\n",
      "1395/1395 [==============================] - 1s 408us/step - loss: 0.8024 - acc: 0.7498\n",
      "Epoch 160/200\n",
      "1395/1395 [==============================] - 1s 411us/step - loss: 0.7895 - acc: 0.7563\n",
      "Epoch 161/200\n"
     ]
    },
    {
     "name": "stdout",
     "output_type": "stream",
     "text": [
      "1395/1395 [==============================] - 1s 413us/step - loss: 0.7890 - acc: 0.7548\n",
      "Epoch 162/200\n",
      "1395/1395 [==============================] - 1s 406us/step - loss: 0.7872 - acc: 0.7599\n",
      "Epoch 163/200\n",
      "1395/1395 [==============================] - 1s 414us/step - loss: 0.7865 - acc: 0.7577\n",
      "Epoch 164/200\n",
      "1395/1395 [==============================] - 1s 396us/step - loss: 0.7894 - acc: 0.7577\n",
      "Epoch 165/200\n",
      "1395/1395 [==============================] - 1s 401us/step - loss: 0.7856 - acc: 0.7584\n",
      "Epoch 166/200\n",
      "1395/1395 [==============================] - 1s 406us/step - loss: 0.7804 - acc: 0.7563\n",
      "Epoch 167/200\n",
      "1395/1395 [==============================] - 1s 427us/step - loss: 0.7798 - acc: 0.7577\n",
      "Epoch 168/200\n",
      "1395/1395 [==============================] - 1s 399us/step - loss: 0.7740 - acc: 0.7570\n",
      "Epoch 169/200\n",
      "1395/1395 [==============================] - 1s 418us/step - loss: 0.7739 - acc: 0.7591\n",
      "Epoch 170/200\n",
      "1395/1395 [==============================] - 1s 387us/step - loss: 0.7789 - acc: 0.7563\n",
      "Epoch 171/200\n",
      "1395/1395 [==============================] - 1s 399us/step - loss: 0.7737 - acc: 0.7556\n",
      "Epoch 172/200\n",
      "1395/1395 [==============================] - 1s 401us/step - loss: 0.7661 - acc: 0.7613\n",
      "Epoch 173/200\n",
      "1395/1395 [==============================] - 1s 391us/step - loss: 0.7702 - acc: 0.7541\n",
      "Epoch 174/200\n",
      "1395/1395 [==============================] - 1s 422us/step - loss: 0.7665 - acc: 0.7613\n",
      "Epoch 175/200\n",
      "1395/1395 [==============================] - 1s 443us/step - loss: 0.7675 - acc: 0.7527\n",
      "Epoch 176/200\n",
      "1395/1395 [==============================] - 1s 424us/step - loss: 0.7615 - acc: 0.7591\n",
      "Epoch 177/200\n",
      "1395/1395 [==============================] - 1s 411us/step - loss: 0.7674 - acc: 0.7556\n",
      "Epoch 178/200\n",
      "1395/1395 [==============================] - 1s 419us/step - loss: 0.7581 - acc: 0.7649\n",
      "Epoch 179/200\n",
      "1395/1395 [==============================] - 1s 411us/step - loss: 0.7638 - acc: 0.7584\n",
      "Epoch 180/200\n",
      "1395/1395 [==============================] - 1s 425us/step - loss: 0.7610 - acc: 0.7584\n",
      "Epoch 181/200\n",
      "1395/1395 [==============================] - 1s 416us/step - loss: 0.7583 - acc: 0.7556 0s - loss: 0.7708 - acc: 0.74\n",
      "Epoch 182/200\n",
      "1395/1395 [==============================] - 1s 411us/step - loss: 0.7492 - acc: 0.7613\n",
      "Epoch 183/200\n",
      "1395/1395 [==============================] - 1s 393us/step - loss: 0.7594 - acc: 0.7584\n",
      "Epoch 184/200\n",
      "1395/1395 [==============================] - 1s 435us/step - loss: 0.7618 - acc: 0.7527\n",
      "Epoch 185/200\n",
      "1395/1395 [==============================] - 1s 400us/step - loss: 0.7583 - acc: 0.7570\n",
      "Epoch 186/200\n",
      "1395/1395 [==============================] - 1s 408us/step - loss: 0.7566 - acc: 0.7627\n",
      "Epoch 187/200\n",
      "1395/1395 [==============================] - 1s 406us/step - loss: 0.7567 - acc: 0.7584\n",
      "Epoch 188/200\n",
      "1395/1395 [==============================] - 1s 422us/step - loss: 0.7493 - acc: 0.7591\n",
      "Epoch 189/200\n",
      "1395/1395 [==============================] - 1s 404us/step - loss: 0.7460 - acc: 0.7627\n",
      "Epoch 190/200\n",
      "1395/1395 [==============================] - 1s 409us/step - loss: 0.7515 - acc: 0.7620\n",
      "Epoch 191/200\n",
      "1395/1395 [==============================] - 1s 419us/step - loss: 0.7477 - acc: 0.7613\n",
      "Epoch 192/200\n",
      "1395/1395 [==============================] - 1s 398us/step - loss: 0.7441 - acc: 0.7649\n",
      "Epoch 193/200\n",
      "1395/1395 [==============================] - 1s 441us/step - loss: 0.7467 - acc: 0.7627\n",
      "Epoch 194/200\n",
      "1395/1395 [==============================] - 1s 455us/step - loss: 0.7456 - acc: 0.7627\n",
      "Epoch 195/200\n",
      "1395/1395 [==============================] - 1s 443us/step - loss: 0.7390 - acc: 0.7634\n",
      "Epoch 196/200\n",
      "1395/1395 [==============================] - 1s 432us/step - loss: 0.7433 - acc: 0.7656\n",
      "Epoch 197/200\n",
      "1395/1395 [==============================] - 1s 420us/step - loss: 0.7319 - acc: 0.7627\n",
      "Epoch 198/200\n",
      "1395/1395 [==============================] - 1s 429us/step - loss: 0.7357 - acc: 0.7663\n",
      "Epoch 199/200\n",
      "1395/1395 [==============================] - 1s 424us/step - loss: 0.7346 - acc: 0.7599\n",
      "Epoch 200/200\n",
      "1395/1395 [==============================] - 1s 438us/step - loss: 0.7358 - acc: 0.7627\n"
     ]
    },
    {
     "data": {
      "text/plain": [
       "<keras.callbacks.History at 0x2aba7686400>"
      ]
     },
     "execution_count": 23,
     "metadata": {},
     "output_type": "execute_result"
    }
   ],
   "source": [
    "model.fit(X_train, y_train)"
   ]
  },
  {
   "cell_type": "code",
   "execution_count": 24,
   "metadata": {},
   "outputs": [
    {
     "name": "stdout",
     "output_type": "stream",
     "text": [
      "599/599 [==============================] - 0s 253us/step\n"
     ]
    }
   ],
   "source": [
    "y_pred = model.predict(X_test)"
   ]
  },
  {
   "cell_type": "code",
   "execution_count": 25,
   "metadata": {},
   "outputs": [],
   "source": [
    "y_test_ = np.argmax(y_test, axis = 1)"
   ]
  },
  {
   "cell_type": "code",
   "execution_count": 70,
   "metadata": {},
   "outputs": [
    {
     "name": "stdout",
     "output_type": "stream",
     "text": [
      "0.74958263773\n"
     ]
    }
   ],
   "source": [
    "print(accuracy_score(y_pred, y_test_))"
   ]
  },
  {
   "cell_type": "markdown",
   "metadata": {},
   "source": [
    "## 2. Stacked Vanilla RNN\n",
    "- RNN layers can be stacked to form a deeper network\n",
    "\n",
    "<img src=\"https://lh6.googleusercontent.com/rC1DSgjlmobtRxMPFi14hkMdDqSkEkuOX7EW_QrLFSymjasIM95Za2Wf-VwSC1Tq1sjJlOPLJ92q7PTKJh2hjBoXQawM6MQC27east67GFDklTalljlt0cFLZnPMdhp8erzO\" style=\"width: 500px\"/>"
   ]
  },
  {
   "cell_type": "code",
   "execution_count": 74,
   "metadata": {
    "collapsed": true
   },
   "outputs": [],
   "source": [
    "def stacked_vanilla_rnn():\n",
    "    model = Sequential()\n",
    "    model.add(SimpleRNN(50, input_shape = (49,1), return_sequences = True))   # return_sequences parameter has to be set True to stack\n",
    "    model.add(SimpleRNN(50, return_sequences = False))\n",
    "    model.add(Dense(46))\n",
    "    model.add(Activation('softmax'))\n",
    "    \n",
    "    adam = optimizers.Adam(lr = 0.001)\n",
    "    model.compile(loss = 'categorical_crossentropy', optimizer = adam, metrics = ['accuracy'])\n",
    "    \n",
    "    return model"
   ]
  },
  {
   "cell_type": "code",
   "execution_count": 75,
   "metadata": {
    "collapsed": true
   },
   "outputs": [],
   "source": [
    "model = KerasClassifier(build_fn = stacked_vanilla_rnn, epochs = 200, batch_size = 50, verbose = 1)"
   ]
  },
  {
   "cell_type": "code",
   "execution_count": null,
   "metadata": {
    "collapsed": true
   },
   "outputs": [],
   "source": [
    "model.fit(X_train, y_train)"
   ]
  },
  {
   "cell_type": "code",
   "execution_count": 77,
   "metadata": {},
   "outputs": [
    {
     "name": "stdout",
     "output_type": "stream",
     "text": [
      "500/599 [========================>.....] - ETA: 0s"
     ]
    }
   ],
   "source": [
    "y_pred = model.predict(X_test)"
   ]
  },
  {
   "cell_type": "code",
   "execution_count": 78,
   "metadata": {},
   "outputs": [
    {
     "name": "stdout",
     "output_type": "stream",
     "text": [
      "0.746243739566\n"
     ]
    }
   ],
   "source": [
    "print(accuracy_score(y_pred, y_test_))"
   ]
  },
  {
   "cell_type": "markdown",
   "metadata": {},
   "source": [
    "## 3. LSTM\n",
    "- LSTM (long short-term memory) is an improved structure to solve the problem of long-term dependencies\n",
    "\n",
    "<img src=\"http://colah.github.io/posts/2015-08-Understanding-LSTMs/img/LSTM3-chain.png\" style=\"width: 600px\"/>"
   ]
  },
  {
   "cell_type": "code",
   "execution_count": 15,
   "metadata": {},
   "outputs": [],
   "source": [
    "from keras.layers import LSTM"
   ]
  },
  {
   "cell_type": "code",
   "execution_count": 17,
   "metadata": {},
   "outputs": [],
   "source": [
    "def lstm():\n",
    "    model = Sequential()\n",
    "    model.add(LSTM(50, input_shape = (49,1), return_sequences = False))\n",
    "    model.add(Dense(46))\n",
    "    model.add(Activation('softmax'))\n",
    "    \n",
    "    adam = optimizers.Adam(lr = 0.001)\n",
    "    model.compile(loss = 'categorical_crossentropy', optimizer = adam, metrics = ['accuracy'])\n",
    "    \n",
    "    return model"
   ]
  },
  {
   "cell_type": "code",
   "execution_count": 18,
   "metadata": {},
   "outputs": [],
   "source": [
    "model = KerasClassifier(build_fn = lstm, epochs = 200, batch_size = 50, verbose = 1)"
   ]
  },
  {
   "cell_type": "code",
   "execution_count": 19,
   "metadata": {},
   "outputs": [
    {
     "name": "stdout",
     "output_type": "stream",
     "text": [
      "Epoch 1/200\n",
      "1395/1395 [==============================] - 5s 3ms/step - loss: 3.4349 - acc: 0.5527\n",
      "Epoch 2/200\n",
      "1395/1395 [==============================] - 2s 2ms/step - loss: 1.5083 - acc: 0.7147\n",
      "Epoch 3/200\n",
      "1395/1395 [==============================] - 2s 2ms/step - loss: 1.1920 - acc: 0.7147\n",
      "Epoch 4/200\n",
      "1000/1395 [====================>.........] - ETA: 0s - loss: 1.1524 - acc: 0.7140"
     ]
    },
    {
     "ename": "KeyboardInterrupt",
     "evalue": "",
     "output_type": "error",
     "traceback": [
      "\u001b[1;31m---------------------------------------------------------------------------\u001b[0m",
      "\u001b[1;31mKeyboardInterrupt\u001b[0m                         Traceback (most recent call last)",
      "\u001b[1;32m<ipython-input-19-d768f88d541e>\u001b[0m in \u001b[0;36m<module>\u001b[1;34m()\u001b[0m\n\u001b[1;32m----> 1\u001b[1;33m \u001b[0mmodel\u001b[0m\u001b[1;33m.\u001b[0m\u001b[0mfit\u001b[0m\u001b[1;33m(\u001b[0m\u001b[0mX_train\u001b[0m\u001b[1;33m,\u001b[0m \u001b[0my_train\u001b[0m\u001b[1;33m)\u001b[0m\u001b[1;33m\u001b[0m\u001b[0m\n\u001b[0m",
      "\u001b[1;32mc:\\users\\heath\\appdata\\local\\programs\\python\\python36\\lib\\site-packages\\keras\\wrappers\\scikit_learn.py\u001b[0m in \u001b[0;36mfit\u001b[1;34m(self, x, y, sample_weight, **kwargs)\u001b[0m\n\u001b[0;32m    207\u001b[0m         \u001b[1;32mif\u001b[0m \u001b[0msample_weight\u001b[0m \u001b[1;32mis\u001b[0m \u001b[1;32mnot\u001b[0m \u001b[1;32mNone\u001b[0m\u001b[1;33m:\u001b[0m\u001b[1;33m\u001b[0m\u001b[0m\n\u001b[0;32m    208\u001b[0m             \u001b[0mkwargs\u001b[0m\u001b[1;33m[\u001b[0m\u001b[1;34m'sample_weight'\u001b[0m\u001b[1;33m]\u001b[0m \u001b[1;33m=\u001b[0m \u001b[0msample_weight\u001b[0m\u001b[1;33m\u001b[0m\u001b[0m\n\u001b[1;32m--> 209\u001b[1;33m         \u001b[1;32mreturn\u001b[0m \u001b[0msuper\u001b[0m\u001b[1;33m(\u001b[0m\u001b[0mKerasClassifier\u001b[0m\u001b[1;33m,\u001b[0m \u001b[0mself\u001b[0m\u001b[1;33m)\u001b[0m\u001b[1;33m.\u001b[0m\u001b[0mfit\u001b[0m\u001b[1;33m(\u001b[0m\u001b[0mx\u001b[0m\u001b[1;33m,\u001b[0m \u001b[0my\u001b[0m\u001b[1;33m,\u001b[0m \u001b[1;33m**\u001b[0m\u001b[0mkwargs\u001b[0m\u001b[1;33m)\u001b[0m\u001b[1;33m\u001b[0m\u001b[0m\n\u001b[0m\u001b[0;32m    210\u001b[0m \u001b[1;33m\u001b[0m\u001b[0m\n\u001b[0;32m    211\u001b[0m     \u001b[1;32mdef\u001b[0m \u001b[0mpredict\u001b[0m\u001b[1;33m(\u001b[0m\u001b[0mself\u001b[0m\u001b[1;33m,\u001b[0m \u001b[0mx\u001b[0m\u001b[1;33m,\u001b[0m \u001b[1;33m**\u001b[0m\u001b[0mkwargs\u001b[0m\u001b[1;33m)\u001b[0m\u001b[1;33m:\u001b[0m\u001b[1;33m\u001b[0m\u001b[0m\n",
      "\u001b[1;32mc:\\users\\heath\\appdata\\local\\programs\\python\\python36\\lib\\site-packages\\keras\\wrappers\\scikit_learn.py\u001b[0m in \u001b[0;36mfit\u001b[1;34m(self, x, y, **kwargs)\u001b[0m\n\u001b[0;32m    149\u001b[0m         \u001b[0mfit_args\u001b[0m\u001b[1;33m.\u001b[0m\u001b[0mupdate\u001b[0m\u001b[1;33m(\u001b[0m\u001b[0mkwargs\u001b[0m\u001b[1;33m)\u001b[0m\u001b[1;33m\u001b[0m\u001b[0m\n\u001b[0;32m    150\u001b[0m \u001b[1;33m\u001b[0m\u001b[0m\n\u001b[1;32m--> 151\u001b[1;33m         \u001b[0mhistory\u001b[0m \u001b[1;33m=\u001b[0m \u001b[0mself\u001b[0m\u001b[1;33m.\u001b[0m\u001b[0mmodel\u001b[0m\u001b[1;33m.\u001b[0m\u001b[0mfit\u001b[0m\u001b[1;33m(\u001b[0m\u001b[0mx\u001b[0m\u001b[1;33m,\u001b[0m \u001b[0my\u001b[0m\u001b[1;33m,\u001b[0m \u001b[1;33m**\u001b[0m\u001b[0mfit_args\u001b[0m\u001b[1;33m)\u001b[0m\u001b[1;33m\u001b[0m\u001b[0m\n\u001b[0m\u001b[0;32m    152\u001b[0m \u001b[1;33m\u001b[0m\u001b[0m\n\u001b[0;32m    153\u001b[0m         \u001b[1;32mreturn\u001b[0m \u001b[0mhistory\u001b[0m\u001b[1;33m\u001b[0m\u001b[0m\n",
      "\u001b[1;32mc:\\users\\heath\\appdata\\local\\programs\\python\\python36\\lib\\site-packages\\keras\\models.py\u001b[0m in \u001b[0;36mfit\u001b[1;34m(self, x, y, batch_size, epochs, verbose, callbacks, validation_split, validation_data, shuffle, class_weight, sample_weight, initial_epoch, steps_per_epoch, validation_steps, **kwargs)\u001b[0m\n\u001b[0;32m   1000\u001b[0m                               \u001b[0minitial_epoch\u001b[0m\u001b[1;33m=\u001b[0m\u001b[0minitial_epoch\u001b[0m\u001b[1;33m,\u001b[0m\u001b[1;33m\u001b[0m\u001b[0m\n\u001b[0;32m   1001\u001b[0m                               \u001b[0msteps_per_epoch\u001b[0m\u001b[1;33m=\u001b[0m\u001b[0msteps_per_epoch\u001b[0m\u001b[1;33m,\u001b[0m\u001b[1;33m\u001b[0m\u001b[0m\n\u001b[1;32m-> 1002\u001b[1;33m                               validation_steps=validation_steps)\n\u001b[0m\u001b[0;32m   1003\u001b[0m \u001b[1;33m\u001b[0m\u001b[0m\n\u001b[0;32m   1004\u001b[0m     def evaluate(self, x=None, y=None,\n",
      "\u001b[1;32mc:\\users\\heath\\appdata\\local\\programs\\python\\python36\\lib\\site-packages\\keras\\engine\\training.py\u001b[0m in \u001b[0;36mfit\u001b[1;34m(self, x, y, batch_size, epochs, verbose, callbacks, validation_split, validation_data, shuffle, class_weight, sample_weight, initial_epoch, steps_per_epoch, validation_steps, **kwargs)\u001b[0m\n\u001b[0;32m   1703\u001b[0m                               \u001b[0minitial_epoch\u001b[0m\u001b[1;33m=\u001b[0m\u001b[0minitial_epoch\u001b[0m\u001b[1;33m,\u001b[0m\u001b[1;33m\u001b[0m\u001b[0m\n\u001b[0;32m   1704\u001b[0m                               \u001b[0msteps_per_epoch\u001b[0m\u001b[1;33m=\u001b[0m\u001b[0msteps_per_epoch\u001b[0m\u001b[1;33m,\u001b[0m\u001b[1;33m\u001b[0m\u001b[0m\n\u001b[1;32m-> 1705\u001b[1;33m                               validation_steps=validation_steps)\n\u001b[0m\u001b[0;32m   1706\u001b[0m \u001b[1;33m\u001b[0m\u001b[0m\n\u001b[0;32m   1707\u001b[0m     def evaluate(self, x=None, y=None,\n",
      "\u001b[1;32mc:\\users\\heath\\appdata\\local\\programs\\python\\python36\\lib\\site-packages\\keras\\engine\\training.py\u001b[0m in \u001b[0;36m_fit_loop\u001b[1;34m(self, f, ins, out_labels, batch_size, epochs, verbose, callbacks, val_f, val_ins, shuffle, callback_metrics, initial_epoch, steps_per_epoch, validation_steps)\u001b[0m\n\u001b[0;32m   1234\u001b[0m                         \u001b[0mins_batch\u001b[0m\u001b[1;33m[\u001b[0m\u001b[0mi\u001b[0m\u001b[1;33m]\u001b[0m \u001b[1;33m=\u001b[0m \u001b[0mins_batch\u001b[0m\u001b[1;33m[\u001b[0m\u001b[0mi\u001b[0m\u001b[1;33m]\u001b[0m\u001b[1;33m.\u001b[0m\u001b[0mtoarray\u001b[0m\u001b[1;33m(\u001b[0m\u001b[1;33m)\u001b[0m\u001b[1;33m\u001b[0m\u001b[0m\n\u001b[0;32m   1235\u001b[0m \u001b[1;33m\u001b[0m\u001b[0m\n\u001b[1;32m-> 1236\u001b[1;33m                     \u001b[0mouts\u001b[0m \u001b[1;33m=\u001b[0m \u001b[0mf\u001b[0m\u001b[1;33m(\u001b[0m\u001b[0mins_batch\u001b[0m\u001b[1;33m)\u001b[0m\u001b[1;33m\u001b[0m\u001b[0m\n\u001b[0m\u001b[0;32m   1237\u001b[0m                     \u001b[1;32mif\u001b[0m \u001b[1;32mnot\u001b[0m \u001b[0misinstance\u001b[0m\u001b[1;33m(\u001b[0m\u001b[0mouts\u001b[0m\u001b[1;33m,\u001b[0m \u001b[0mlist\u001b[0m\u001b[1;33m)\u001b[0m\u001b[1;33m:\u001b[0m\u001b[1;33m\u001b[0m\u001b[0m\n\u001b[0;32m   1238\u001b[0m                         \u001b[0mouts\u001b[0m \u001b[1;33m=\u001b[0m \u001b[1;33m[\u001b[0m\u001b[0mouts\u001b[0m\u001b[1;33m]\u001b[0m\u001b[1;33m\u001b[0m\u001b[0m\n",
      "\u001b[1;32mc:\\users\\heath\\appdata\\local\\programs\\python\\python36\\lib\\site-packages\\keras\\backend\\tensorflow_backend.py\u001b[0m in \u001b[0;36m__call__\u001b[1;34m(self, inputs)\u001b[0m\n\u001b[0;32m   2480\u001b[0m         \u001b[0msession\u001b[0m \u001b[1;33m=\u001b[0m \u001b[0mget_session\u001b[0m\u001b[1;33m(\u001b[0m\u001b[1;33m)\u001b[0m\u001b[1;33m\u001b[0m\u001b[0m\n\u001b[0;32m   2481\u001b[0m         updated = session.run(fetches=fetches, feed_dict=feed_dict,\n\u001b[1;32m-> 2482\u001b[1;33m                               **self.session_kwargs)\n\u001b[0m\u001b[0;32m   2483\u001b[0m         \u001b[1;32mreturn\u001b[0m \u001b[0mupdated\u001b[0m\u001b[1;33m[\u001b[0m\u001b[1;33m:\u001b[0m\u001b[0mlen\u001b[0m\u001b[1;33m(\u001b[0m\u001b[0mself\u001b[0m\u001b[1;33m.\u001b[0m\u001b[0moutputs\u001b[0m\u001b[1;33m)\u001b[0m\u001b[1;33m]\u001b[0m\u001b[1;33m\u001b[0m\u001b[0m\n\u001b[0;32m   2484\u001b[0m \u001b[1;33m\u001b[0m\u001b[0m\n",
      "\u001b[1;32mc:\\users\\heath\\appdata\\local\\programs\\python\\python36\\lib\\site-packages\\tensorflow\\python\\client\\session.py\u001b[0m in \u001b[0;36mrun\u001b[1;34m(self, fetches, feed_dict, options, run_metadata)\u001b[0m\n\u001b[0;32m    903\u001b[0m     \u001b[1;32mtry\u001b[0m\u001b[1;33m:\u001b[0m\u001b[1;33m\u001b[0m\u001b[0m\n\u001b[0;32m    904\u001b[0m       result = self._run(None, fetches, feed_dict, options_ptr,\n\u001b[1;32m--> 905\u001b[1;33m                          run_metadata_ptr)\n\u001b[0m\u001b[0;32m    906\u001b[0m       \u001b[1;32mif\u001b[0m \u001b[0mrun_metadata\u001b[0m\u001b[1;33m:\u001b[0m\u001b[1;33m\u001b[0m\u001b[0m\n\u001b[0;32m    907\u001b[0m         \u001b[0mproto_data\u001b[0m \u001b[1;33m=\u001b[0m \u001b[0mtf_session\u001b[0m\u001b[1;33m.\u001b[0m\u001b[0mTF_GetBuffer\u001b[0m\u001b[1;33m(\u001b[0m\u001b[0mrun_metadata_ptr\u001b[0m\u001b[1;33m)\u001b[0m\u001b[1;33m\u001b[0m\u001b[0m\n",
      "\u001b[1;32mc:\\users\\heath\\appdata\\local\\programs\\python\\python36\\lib\\site-packages\\tensorflow\\python\\client\\session.py\u001b[0m in \u001b[0;36m_run\u001b[1;34m(self, handle, fetches, feed_dict, options, run_metadata)\u001b[0m\n\u001b[0;32m   1138\u001b[0m     \u001b[1;32mif\u001b[0m \u001b[0mfinal_fetches\u001b[0m \u001b[1;32mor\u001b[0m \u001b[0mfinal_targets\u001b[0m \u001b[1;32mor\u001b[0m \u001b[1;33m(\u001b[0m\u001b[0mhandle\u001b[0m \u001b[1;32mand\u001b[0m \u001b[0mfeed_dict_tensor\u001b[0m\u001b[1;33m)\u001b[0m\u001b[1;33m:\u001b[0m\u001b[1;33m\u001b[0m\u001b[0m\n\u001b[0;32m   1139\u001b[0m       results = self._do_run(handle, final_targets, final_fetches,\n\u001b[1;32m-> 1140\u001b[1;33m                              feed_dict_tensor, options, run_metadata)\n\u001b[0m\u001b[0;32m   1141\u001b[0m     \u001b[1;32melse\u001b[0m\u001b[1;33m:\u001b[0m\u001b[1;33m\u001b[0m\u001b[0m\n\u001b[0;32m   1142\u001b[0m       \u001b[0mresults\u001b[0m \u001b[1;33m=\u001b[0m \u001b[1;33m[\u001b[0m\u001b[1;33m]\u001b[0m\u001b[1;33m\u001b[0m\u001b[0m\n",
      "\u001b[1;32mc:\\users\\heath\\appdata\\local\\programs\\python\\python36\\lib\\site-packages\\tensorflow\\python\\client\\session.py\u001b[0m in \u001b[0;36m_do_run\u001b[1;34m(self, handle, target_list, fetch_list, feed_dict, options, run_metadata)\u001b[0m\n\u001b[0;32m   1319\u001b[0m     \u001b[1;32mif\u001b[0m \u001b[0mhandle\u001b[0m \u001b[1;32mis\u001b[0m \u001b[1;32mNone\u001b[0m\u001b[1;33m:\u001b[0m\u001b[1;33m\u001b[0m\u001b[0m\n\u001b[0;32m   1320\u001b[0m       return self._do_call(_run_fn, feeds, fetches, targets, options,\n\u001b[1;32m-> 1321\u001b[1;33m                            run_metadata)\n\u001b[0m\u001b[0;32m   1322\u001b[0m     \u001b[1;32melse\u001b[0m\u001b[1;33m:\u001b[0m\u001b[1;33m\u001b[0m\u001b[0m\n\u001b[0;32m   1323\u001b[0m       \u001b[1;32mreturn\u001b[0m \u001b[0mself\u001b[0m\u001b[1;33m.\u001b[0m\u001b[0m_do_call\u001b[0m\u001b[1;33m(\u001b[0m\u001b[0m_prun_fn\u001b[0m\u001b[1;33m,\u001b[0m \u001b[0mhandle\u001b[0m\u001b[1;33m,\u001b[0m \u001b[0mfeeds\u001b[0m\u001b[1;33m,\u001b[0m \u001b[0mfetches\u001b[0m\u001b[1;33m)\u001b[0m\u001b[1;33m\u001b[0m\u001b[0m\n",
      "\u001b[1;32mc:\\users\\heath\\appdata\\local\\programs\\python\\python36\\lib\\site-packages\\tensorflow\\python\\client\\session.py\u001b[0m in \u001b[0;36m_do_call\u001b[1;34m(self, fn, *args)\u001b[0m\n\u001b[0;32m   1325\u001b[0m   \u001b[1;32mdef\u001b[0m \u001b[0m_do_call\u001b[0m\u001b[1;33m(\u001b[0m\u001b[0mself\u001b[0m\u001b[1;33m,\u001b[0m \u001b[0mfn\u001b[0m\u001b[1;33m,\u001b[0m \u001b[1;33m*\u001b[0m\u001b[0margs\u001b[0m\u001b[1;33m)\u001b[0m\u001b[1;33m:\u001b[0m\u001b[1;33m\u001b[0m\u001b[0m\n\u001b[0;32m   1326\u001b[0m     \u001b[1;32mtry\u001b[0m\u001b[1;33m:\u001b[0m\u001b[1;33m\u001b[0m\u001b[0m\n\u001b[1;32m-> 1327\u001b[1;33m       \u001b[1;32mreturn\u001b[0m \u001b[0mfn\u001b[0m\u001b[1;33m(\u001b[0m\u001b[1;33m*\u001b[0m\u001b[0margs\u001b[0m\u001b[1;33m)\u001b[0m\u001b[1;33m\u001b[0m\u001b[0m\n\u001b[0m\u001b[0;32m   1328\u001b[0m     \u001b[1;32mexcept\u001b[0m \u001b[0merrors\u001b[0m\u001b[1;33m.\u001b[0m\u001b[0mOpError\u001b[0m \u001b[1;32mas\u001b[0m \u001b[0me\u001b[0m\u001b[1;33m:\u001b[0m\u001b[1;33m\u001b[0m\u001b[0m\n\u001b[0;32m   1329\u001b[0m       \u001b[0mmessage\u001b[0m \u001b[1;33m=\u001b[0m \u001b[0mcompat\u001b[0m\u001b[1;33m.\u001b[0m\u001b[0mas_text\u001b[0m\u001b[1;33m(\u001b[0m\u001b[0me\u001b[0m\u001b[1;33m.\u001b[0m\u001b[0mmessage\u001b[0m\u001b[1;33m)\u001b[0m\u001b[1;33m\u001b[0m\u001b[0m\n",
      "\u001b[1;32mc:\\users\\heath\\appdata\\local\\programs\\python\\python36\\lib\\site-packages\\tensorflow\\python\\client\\session.py\u001b[0m in \u001b[0;36m_run_fn\u001b[1;34m(feed_dict, fetch_list, target_list, options, run_metadata)\u001b[0m\n\u001b[0;32m   1310\u001b[0m       \u001b[0mself\u001b[0m\u001b[1;33m.\u001b[0m\u001b[0m_extend_graph\u001b[0m\u001b[1;33m(\u001b[0m\u001b[1;33m)\u001b[0m\u001b[1;33m\u001b[0m\u001b[0m\n\u001b[0;32m   1311\u001b[0m       return self._call_tf_sessionrun(\n\u001b[1;32m-> 1312\u001b[1;33m           options, feed_dict, fetch_list, target_list, run_metadata)\n\u001b[0m\u001b[0;32m   1313\u001b[0m \u001b[1;33m\u001b[0m\u001b[0m\n\u001b[0;32m   1314\u001b[0m     \u001b[1;32mdef\u001b[0m \u001b[0m_prun_fn\u001b[0m\u001b[1;33m(\u001b[0m\u001b[0mhandle\u001b[0m\u001b[1;33m,\u001b[0m \u001b[0mfeed_dict\u001b[0m\u001b[1;33m,\u001b[0m \u001b[0mfetch_list\u001b[0m\u001b[1;33m)\u001b[0m\u001b[1;33m:\u001b[0m\u001b[1;33m\u001b[0m\u001b[0m\n",
      "\u001b[1;32mc:\\users\\heath\\appdata\\local\\programs\\python\\python36\\lib\\site-packages\\tensorflow\\python\\client\\session.py\u001b[0m in \u001b[0;36m_call_tf_sessionrun\u001b[1;34m(self, options, feed_dict, fetch_list, target_list, run_metadata)\u001b[0m\n\u001b[0;32m   1418\u001b[0m         return tf_session.TF_Run(\n\u001b[0;32m   1419\u001b[0m             \u001b[0mself\u001b[0m\u001b[1;33m.\u001b[0m\u001b[0m_session\u001b[0m\u001b[1;33m,\u001b[0m \u001b[0moptions\u001b[0m\u001b[1;33m,\u001b[0m \u001b[0mfeed_dict\u001b[0m\u001b[1;33m,\u001b[0m \u001b[0mfetch_list\u001b[0m\u001b[1;33m,\u001b[0m \u001b[0mtarget_list\u001b[0m\u001b[1;33m,\u001b[0m\u001b[1;33m\u001b[0m\u001b[0m\n\u001b[1;32m-> 1420\u001b[1;33m             status, run_metadata)\n\u001b[0m\u001b[0;32m   1421\u001b[0m \u001b[1;33m\u001b[0m\u001b[0m\n\u001b[0;32m   1422\u001b[0m   \u001b[1;32mdef\u001b[0m \u001b[0m_call_tf_sessionprun\u001b[0m\u001b[1;33m(\u001b[0m\u001b[0mself\u001b[0m\u001b[1;33m,\u001b[0m \u001b[0mhandle\u001b[0m\u001b[1;33m,\u001b[0m \u001b[0mfeed_dict\u001b[0m\u001b[1;33m,\u001b[0m \u001b[0mfetch_list\u001b[0m\u001b[1;33m)\u001b[0m\u001b[1;33m:\u001b[0m\u001b[1;33m\u001b[0m\u001b[0m\n",
      "\u001b[1;31mKeyboardInterrupt\u001b[0m: "
     ]
    }
   ],
   "source": [
    "model.fit(X_train, y_train)"
   ]
  },
  {
   "cell_type": "code",
   "execution_count": 83,
   "metadata": {},
   "outputs": [
    {
     "name": "stdout",
     "output_type": "stream",
     "text": [
      "500/599 [========================>.....] - ETA: 0s"
     ]
    }
   ],
   "source": [
    "y_pred = model.predict(X_test)"
   ]
  },
  {
   "cell_type": "code",
   "execution_count": 84,
   "metadata": {},
   "outputs": [
    {
     "name": "stdout",
     "output_type": "stream",
     "text": [
      "0.844741235392\n"
     ]
    }
   ],
   "source": [
    "# accuracy improves by adopting LSTM structure\n",
    "print(accuracy_score(y_pred, y_test_))"
   ]
  },
  {
   "cell_type": "markdown",
   "metadata": {},
   "source": [
    "## 4. Stacked LSTM\n",
    "- LSTM layers can be stacked as well"
   ]
  },
  {
   "cell_type": "code",
   "execution_count": 85,
   "metadata": {
    "collapsed": true
   },
   "outputs": [],
   "source": [
    "def stacked_lstm():\n",
    "    model = Sequential()\n",
    "    model.add(LSTM(50, input_shape = (49,1), return_sequences = True))\n",
    "    model.add(LSTM(50, return_sequences = False))\n",
    "    model.add(Dense(46))\n",
    "    model.add(Activation('softmax'))\n",
    "    \n",
    "    adam = optimizers.Adam(lr = 0.001)\n",
    "    model.compile(loss = 'categorical_crossentropy', optimizer = adam, metrics = ['accuracy'])\n",
    "    \n",
    "    return model"
   ]
  },
  {
   "cell_type": "code",
   "execution_count": 86,
   "metadata": {
    "collapsed": true
   },
   "outputs": [],
   "source": [
    "model = KerasClassifier(build_fn = stacked_lstm, epochs = 200, batch_size = 50, verbose = 1)"
   ]
  },
  {
   "cell_type": "code",
   "execution_count": null,
   "metadata": {
    "collapsed": true
   },
   "outputs": [],
   "source": [
    "model.fit(X_train, y_train)"
   ]
  },
  {
   "cell_type": "code",
   "execution_count": 88,
   "metadata": {},
   "outputs": [
    {
     "name": "stdout",
     "output_type": "stream",
     "text": [
      "500/599 [========================>.....] - ETA: 0s"
     ]
    }
   ],
   "source": [
    "y_pred = model.predict(X_test)"
   ]
  },
  {
   "cell_type": "code",
   "execution_count": 89,
   "metadata": {},
   "outputs": [
    {
     "name": "stdout",
     "output_type": "stream",
     "text": [
      "0.858096828047\n"
     ]
    }
   ],
   "source": [
    "print(accuracy_score(y_pred, y_test_))"
   ]
  }
 ],
 "metadata": {
  "kernelspec": {
   "display_name": "Python 3",
   "language": "python",
   "name": "python3"
  },
  "language_info": {
   "codemirror_mode": {
    "name": "ipython",
    "version": 3
   },
   "file_extension": ".py",
   "mimetype": "text/x-python",
   "name": "python",
   "nbconvert_exporter": "python",
   "pygments_lexer": "ipython3",
   "version": "3.6.5"
  }
 },
 "nbformat": 4,
 "nbformat_minor": 2
}
