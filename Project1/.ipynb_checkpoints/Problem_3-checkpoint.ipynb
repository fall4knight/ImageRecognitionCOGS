{
 "cells": [
  {
   "cell_type": "code",
   "execution_count": 1,
   "metadata": {},
   "outputs": [],
   "source": [
    "import cv2 # tested with 3.1.0 version\n",
    "import numpy as np\n",
    "import matplotlib.pyplot as plt\n",
    "import os\n",
    "%matplotlib inline"
   ]
  },
  {
   "cell_type": "markdown",
   "metadata": {},
   "source": [
    "# 3. Edge Detection"
   ]
  },
  {
   "cell_type": "code",
   "execution_count": 2,
   "metadata": {},
   "outputs": [
    {
     "name": "stdout",
     "output_type": "stream",
     "text": [
      "Accuracy: 0.621913\n"
     ]
    }
   ],
   "source": [
    "from skimage.measure import compare_ssim\n",
    "from evaluate import evaluate\n",
    "# The code returns the accuracy of the edge detector when compared against the ground truth\n",
    "# OUTPUT_FILE_PATH: Path of the image containing the edges obtained using edge detector\n",
    "# GROUND_TRUTH_PATH: Path of the corresponding ground truth image (present in the folder data/ground_truth)\n",
    "# An example of how to use the evaluate function is shown as follows:\n",
    "OUTPUT_FILE_PATH = 'data/test.png'\n",
    "GROUND_TRUTH_PATH = 'data/ground_truth/3096.bmp'\n",
    "print('Accuracy: %f' %(evaluate(OUTPUT_FILE_PATH, GROUND_TRUTH_PATH)))"
   ]
  },
  {
   "cell_type": "code",
   "execution_count": 3,
   "metadata": {},
   "outputs": [],
   "source": [
    "# grays: original grayscale pictures\n",
    "# imgs: pictures after gaussian smoothing\n",
    "IMG_NAMES = [\"3096.jpg\", \"8023.jpg\", \"14037.jpg\", \"19021.jpg\"]\n",
    "imgs = []\n",
    "grays = []\n",
    "for imagename in IMG_NAMES:\n",
    "    grays.append(cv2.imread(os.path.join('data/img/', imagename), 0))\n",
    "for gray in grays:\n",
    "    imgs.append(cv2.GaussianBlur(gray,(3,3),0))"
   ]
  },
  {
   "cell_type": "markdown",
   "metadata": {},
   "source": [
    "In the following sections, I will first apply detectors on the original grayscale pictures first and then on the smoothed pictures to see if there is improvement."
   ]
  },
  {
   "cell_type": "markdown",
   "metadata": {},
   "source": [
    "## 3.1 Edge Detector 1: Sobel Operator"
   ]
  },
  {
   "cell_type": "code",
   "execution_count": 4,
   "metadata": {
    "scrolled": true
   },
   "outputs": [
    {
     "name": "stdout",
     "output_type": "stream",
     "text": [
      "data/img/sobel_3096.jpg data/ground_truth/3096.bmp\n",
      "Accuracy sobel for 3096.jpg: 0.852171\n",
      "data/img/sobel_8023.jpg data/ground_truth/8023.bmp\n",
      "Accuracy sobel for 8023.jpg: 0.714335\n",
      "data/img/sobel_14037.jpg data/ground_truth/14037.bmp\n",
      "Accuracy sobel for 14037.jpg: 0.722560\n",
      "data/img/sobel_19021.jpg data/ground_truth/19021.bmp\n",
      "Accuracy sobel for 19021.jpg: 0.357485\n"
     ]
    }
   ],
   "source": [
    "### Fill your code here\n",
    "### Report the accuracy obtained\n",
    "### Report any improvements you have tried\n",
    "# original grayscale\n",
    "scale = 1\n",
    "delta = 0\n",
    "ddepth = cv2.CV_16S\n",
    "\n",
    "for i in range(len(grays)):\n",
    "    gradx = cv2.Sobel(grays[i],ddepth,1,0,ksize = 3, scale = scale, delta = delta, borderType = cv2.BORDER_DEFAULT)\n",
    "    grady = cv2.Sobel(grays[i],ddepth,0,1,ksize = 3, scale = scale, delta = delta, borderType = cv2.BORDER_DEFAULT)\n",
    "    abs_grad_x = cv2.convertScaleAbs(gradx)   # converting back to uint8\n",
    "    abs_grad_y = cv2.convertScaleAbs(grady)\n",
    "    sobel = cv2.addWeighted(abs_grad_x,0.5,abs_grad_y,0.5,0)\n",
    "    cv2.imwrite(\"data/img/sobel_\" + IMG_NAMES[i], sobel)\n",
    "    OUTPUT = \"data/img/sobel_\" + IMG_NAMES[i]\n",
    "    GROUNDTRUTH = \"data/ground_truth/\" + IMG_NAMES[i][:-4] + \".bmp\"\n",
    "    print(OUTPUT, GROUNDTRUTH)\n",
    "    print(\"Accuracy sobel for %s: %f\" %(IMG_NAMES[i], evaluate(OUTPUT, GROUNDTRUTH)))"
   ]
  },
  {
   "cell_type": "code",
   "execution_count": 5,
   "metadata": {},
   "outputs": [
    {
     "name": "stdout",
     "output_type": "stream",
     "text": [
      "data/img/sobelGaussian_3096.jpg data/ground_truth/3096.bmp\n",
      "Accuracy sobel for 3096.jpg: 0.853479\n",
      "data/img/sobelGaussian_8023.jpg data/ground_truth/8023.bmp\n",
      "Accuracy sobel for 8023.jpg: 0.775941\n",
      "data/img/sobelGaussian_14037.jpg data/ground_truth/14037.bmp\n",
      "Accuracy sobel for 14037.jpg: 0.753156\n",
      "data/img/sobelGaussian_19021.jpg data/ground_truth/19021.bmp\n",
      "Accuracy sobel for 19021.jpg: 0.616771\n"
     ]
    }
   ],
   "source": [
    "# gaussian smoothed\n",
    "scale = 1\n",
    "delta = 0\n",
    "ddepth = cv2.CV_16S\n",
    "\n",
    "for i in range(len(grays)):\n",
    "    gradx = cv2.Sobel(imgs[i],ddepth,1,0,ksize = 3, scale = scale, delta = delta, borderType = cv2.BORDER_DEFAULT)\n",
    "    grady = cv2.Sobel(imgs[i],ddepth,0,1,ksize = 3, scale = scale, delta = delta, borderType = cv2.BORDER_DEFAULT)\n",
    "    abs_grad_x = cv2.convertScaleAbs(gradx)   # converting back to uint8\n",
    "    abs_grad_y = cv2.convertScaleAbs(grady)\n",
    "    sobel = cv2.addWeighted(abs_grad_x,0.5,abs_grad_y,0.5,0)\n",
    "    cv2.imwrite(\"data/img/sobelGaussian_\" + IMG_NAMES[i], sobel)\n",
    "    OUTPUT = \"data/img/sobelGaussian_\" + IMG_NAMES[i]\n",
    "    GROUNDTRUTH = \"data/ground_truth/\" + IMG_NAMES[i][:-4] + \".bmp\"\n",
    "    print(OUTPUT, GROUNDTRUTH)\n",
    "    print(\"Accuracy sobel for %s: %f\" %(IMG_NAMES[i], evaluate(OUTPUT, GROUNDTRUTH)))"
   ]
  },
  {
   "cell_type": "markdown",
   "metadata": {},
   "source": [
    "## 3.2 Edge Detector 2: Canny"
   ]
  },
  {
   "cell_type": "code",
   "execution_count": 6,
   "metadata": {
    "scrolled": true
   },
   "outputs": [
    {
     "name": "stdout",
     "output_type": "stream",
     "text": [
      "data/img/canny_3096.jpg data/ground_truth/3096.bmp\n",
      "Accuracy canny for 3096.jpg: 0.849399\n",
      "data/img/canny_8023.jpg data/ground_truth/8023.bmp\n",
      "Accuracy canny for 8023.jpg: 0.641939\n",
      "data/img/canny_14037.jpg data/ground_truth/14037.bmp\n",
      "Accuracy canny for 14037.jpg: 0.664996\n",
      "data/img/canny_19021.jpg data/ground_truth/19021.bmp\n",
      "Accuracy canny for 19021.jpg: 0.181553\n"
     ]
    }
   ],
   "source": [
    "### Fill your code here\n",
    "### Report the accuracy obtained\n",
    "### Report any improvements you have tried\n",
    "for i in range(len(grays)):\n",
    "    canny = cv2.Canny(grays[i],100,200)\n",
    "    cv2.imwrite(\"data/img/canny_\" + IMG_NAMES[i], canny)\n",
    "    OUTPUT = \"data/img/canny_\" + IMG_NAMES[i]\n",
    "    GROUNDTRUTH = \"data/ground_truth/\" + IMG_NAMES[i][:-4] + \".bmp\"\n",
    "    print(OUTPUT, GROUNDTRUTH)\n",
    "    print(\"Accuracy canny for %s: %f\" %(IMG_NAMES[i], evaluate(OUTPUT, GROUNDTRUTH)))"
   ]
  },
  {
   "cell_type": "code",
   "execution_count": 7,
   "metadata": {},
   "outputs": [
    {
     "name": "stdout",
     "output_type": "stream",
     "text": [
      "data/img/cannyGaussian_3096.jpg data/ground_truth/3096.bmp\n",
      "Accuracy canny for 3096.jpg: 0.850435\n",
      "data/img/cannyGaussian_8023.jpg data/ground_truth/8023.bmp\n",
      "Accuracy canny for 8023.jpg: 0.718130\n",
      "data/img/cannyGaussian_14037.jpg data/ground_truth/14037.bmp\n",
      "Accuracy canny for 14037.jpg: 0.749296\n",
      "data/img/cannyGaussian_19021.jpg data/ground_truth/19021.bmp\n",
      "Accuracy canny for 19021.jpg: 0.507302\n"
     ]
    }
   ],
   "source": [
    "for i in range(len(grays)):\n",
    "    canny = cv2.Canny(imgs[i],100,200)\n",
    "    cv2.imwrite(\"data/img/cannyGaussian_\" + IMG_NAMES[i], canny)\n",
    "    OUTPUT = \"data/img/cannyGaussian_\" + IMG_NAMES[i]\n",
    "    GROUNDTRUTH = \"data/ground_truth/\" + IMG_NAMES[i][:-4] + \".bmp\"\n",
    "    print(OUTPUT, GROUNDTRUTH)\n",
    "    print(\"Accuracy canny for %s: %f\" %(IMG_NAMES[i], evaluate(OUTPUT, GROUNDTRUTH)))"
   ]
  },
  {
   "cell_type": "markdown",
   "metadata": {},
   "source": [
    "## 3.3 Edge Detector 3: Laplacian"
   ]
  },
  {
   "cell_type": "markdown",
   "metadata": {},
   "source": [
    "I am so sorry that I failed all other algorithms either in MATLAB or in Python. It just continuously drop errors when I executed them so I turned into Laplacian as my 3rd edge detector."
   ]
  },
  {
   "cell_type": "code",
   "execution_count": 8,
   "metadata": {
    "scrolled": true
   },
   "outputs": [
    {
     "name": "stdout",
     "output_type": "stream",
     "text": [
      "data/img/laplacian_3096.jpg data/ground_truth/3096.bmp\n",
      "Accuracy laplacian for 3096.jpg: 0.824412\n",
      "data/img/laplacian_8023.jpg data/ground_truth/8023.bmp\n",
      "Accuracy laplacian for 8023.jpg: 0.834800\n",
      "data/img/laplacian_14037.jpg data/ground_truth/14037.bmp\n",
      "Accuracy laplacian for 14037.jpg: 0.723013\n",
      "data/img/laplacian_19021.jpg data/ground_truth/19021.bmp\n",
      "Accuracy laplacian for 19021.jpg: 0.693661\n"
     ]
    }
   ],
   "source": [
    "### Fill your code here\n",
    "### Report the accuracy obtained\n",
    "### Report any improvements you have tried\n",
    "for i in range(len(grays)):\n",
    "    laplacian = cv2.Laplacian(grays[i],cv2.CV_64F)\n",
    "    cv2.imwrite(\"data/img/laplacian_\" + IMG_NAMES[i], laplacian)\n",
    "    OUTPUT = \"data/img/laplacian_\" + IMG_NAMES[i]\n",
    "    GROUNDTRUTH = \"data/ground_truth/\" + IMG_NAMES[i][:-4] + \".bmp\"\n",
    "    print(OUTPUT, GROUNDTRUTH)\n",
    "    print(\"Accuracy laplacian for %s: %f\" %(IMG_NAMES[i], evaluate(OUTPUT, GROUNDTRUTH)))"
   ]
  },
  {
   "cell_type": "code",
   "execution_count": 9,
   "metadata": {},
   "outputs": [
    {
     "name": "stdout",
     "output_type": "stream",
     "text": [
      "data/img/laplacian_3096.jpg data/ground_truth/3096.bmp\n",
      "Accuracy laplacian for 3096.jpg: 0.809360\n",
      "data/img/laplacian_8023.jpg data/ground_truth/8023.bmp\n",
      "Accuracy laplacian for 8023.jpg: 0.856238\n",
      "data/img/laplacian_14037.jpg data/ground_truth/14037.bmp\n",
      "Accuracy laplacian for 14037.jpg: 0.720332\n",
      "data/img/laplacian_19021.jpg data/ground_truth/19021.bmp\n",
      "Accuracy laplacian for 19021.jpg: 0.804412\n"
     ]
    }
   ],
   "source": [
    "for i in range(len(grays)):\n",
    "    laplacian = cv2.Laplacian(imgs[i],cv2.CV_64F)\n",
    "    cv2.imwrite(\"data/img/laplacian_\" + IMG_NAMES[i], laplacian)\n",
    "    OUTPUT = \"data/img/laplacian_\" + IMG_NAMES[i]\n",
    "    GROUNDTRUTH = \"data/ground_truth/\" + IMG_NAMES[i][:-4] + \".bmp\"\n",
    "    print(OUTPUT, GROUNDTRUTH)\n",
    "    print(\"Accuracy laplacian for %s: %f\" %(IMG_NAMES[i], evaluate(OUTPUT, GROUNDTRUTH)))"
   ]
  },
  {
   "cell_type": "markdown",
   "metadata": {},
   "source": [
    "For all of three methods, one possible improvement is to tune the size of kernel and apply gaussian filters. For different pictures, different value of parameters are preferred.\n",
    "However, as we can see, applying smoothing does not necessarily increase the accuracy. Actually in laplacian, the accuracies for two images decreased after applying gaussian. Though for most of the methods and pictures it does improve but should be taken care of."
   ]
  }
 ],
 "metadata": {
  "kernelspec": {
   "display_name": "Python 3",
   "language": "python",
   "name": "python3"
  },
  "language_info": {
   "codemirror_mode": {
    "name": "ipython",
    "version": 3
   },
   "file_extension": ".py",
   "mimetype": "text/x-python",
   "name": "python",
   "nbconvert_exporter": "python",
   "pygments_lexer": "ipython3",
   "version": "3.6.5"
  }
 },
 "nbformat": 4,
 "nbformat_minor": 1
}
