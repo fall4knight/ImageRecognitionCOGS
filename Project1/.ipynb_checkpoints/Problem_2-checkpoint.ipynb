{
 "cells": [
  {
   "cell_type": "code",
   "execution_count": 1,
   "metadata": {},
   "outputs": [],
   "source": [
    "import cv2 # tested with 3.1.0 version\n",
    "import numpy as np\n",
    "import matplotlib.pyplot as plt\n",
    "import os\n",
    "%matplotlib inline\n",
    "%config InlineBackend.figure_format = 'retina'"
   ]
  },
  {
   "cell_type": "markdown",
   "metadata": {},
   "source": [
    "# 2. Image Enhancement\n",
    "## 2.1 Histogram"
   ]
  },
  {
   "cell_type": "code",
   "execution_count": null,
   "metadata": {
    "collapsed": true
   },
   "outputs": [],
   "source": [
    "IMG_NAMES = [\"12084.jpg\", \"14037.jpg\", \"21077.jpg\"] # Take any 3 images from the dataset in \"data/img\"\n",
    "\n",
    "def show_histRGB(img, imagepath):\n",
    "    color = ('b', 'g', 'r')\n",
    "    plt.figure(figsize=(20, 6)) # Figure size can be adjusted.\n",
    "    plt.subplot(121), plt.imshow(cv2.cvtColor(img, cv2.COLOR_BGR2RGB)) # show the corresponding rgb image using pyplot.\n",
    "    plt.xticks([]), \n",
    "    plt.yticks([])\n",
    "    plt.title(imagepath)\n",
    "    for i, col in enumerate(color):\n",
    "        # a) Calculate the histograms for this image.\n",
    "        histr = cv2.calcHist([img],[i],None,[256],[0,256])\n",
    "        plt.subplot(122), plt.plot(histr, color = col) # plot histogram with the b g r channels.\n",
    "        plt.xlim([0, 256])\n",
    "        plt.title(\"histRGB\")\n",
    "    plt.show()\n",
    "    \n",
    "for imagename in IMG_NAMES:\n",
    "    imagepath = os.path.join('data/img/', imagename)\n",
    "    img = cv2.imread(imagepath) # read the image from image path using opencv.\n",
    "    show_histRGB(img, imagepath)"
   ]
  },
  {
   "cell_type": "markdown",
   "metadata": {},
   "source": [
    "### b) What can you say about the spread of the color intensities for these images? (Please briefly answer this question in this block)\n",
    "_______________________________\n",
    "_______________________________\n",
    "_______________________________"
   ]
  },
  {
   "cell_type": "markdown",
   "metadata": {},
   "source": [
    "## 2.2 Global Histogram Equalization"
   ]
  },
  {
   "cell_type": "code",
   "execution_count": null,
   "metadata": {
    "collapsed": true
   },
   "outputs": [],
   "source": [
    "def histogram_equalization(imagepath):\n",
    "    img = _____________________ # Read the image in color\n",
    "    img_yuv = _________________ # Convert the image to YUV\n",
    "    ___________________________ # Apply global histogram equalization on Y channel\n",
    "    equ = _____________________ # Convert back to BGR \n",
    "    show_histRGB(img, \"Original\")\n",
    "    show_histRGB(equ, \"Equalized (Global)\")\n",
    "    \n",
    "for imagename in IMG_NAMES:\n",
    "    imagepath = os.path.join('data/img/', imagename)\n",
    "    histogram_equalization(imagepath)\n"
   ]
  },
  {
   "cell_type": "markdown",
   "metadata": {},
   "source": [
    "## 2.3 Adaptive Histogram Equalization (CLAHE)"
   ]
  },
  {
   "cell_type": "code",
   "execution_count": null,
   "metadata": {
    "collapsed": true
   },
   "outputs": [],
   "source": [
    "def adaptive_histogram_equalization(imagepath):\n",
    "    img = _________________ # Read the image in color\n",
    "    img_yuv = _________________ # Convert the image to YUV\n",
    "    _______________________ # a) Create clahe    \n",
    "    print _________________ # b) Print all the hyper parameters used.\n",
    "    _______________________ # c) Apply CLAHE onto the Y channel\n",
    "    equ = _________________ # Convert back to BGR\n",
    "    show_histRGB(img, \"Original\")\n",
    "    show_histRGB(equ, \"Equalized (Adaptive)\")\n",
    "\n",
    "for imagename in IMG_NAMES:\n",
    "    imagepath = os.path.join('data/img/', imagename)\n",
    "    adaptive_histogram_equalization(imagepath)"
   ]
  },
  {
   "cell_type": "markdown",
   "metadata": {},
   "source": [
    "###  d) Did you find any difference between the two techniques? (Please briefly answer this question in this block)\n",
    "_______________________________\n",
    "_______________________________\n",
    "_______________________________"
   ]
  }
 ],
 "metadata": {
  "kernelspec": {
   "display_name": "Python 3",
   "language": "python",
   "name": "python3"
  },
  "language_info": {
   "codemirror_mode": {
    "name": "ipython",
    "version": 3
   },
   "file_extension": ".py",
   "mimetype": "text/x-python",
   "name": "python",
   "nbconvert_exporter": "python",
   "pygments_lexer": "ipython3",
   "version": "3.6.5"
  }
 },
 "nbformat": 4,
 "nbformat_minor": 1
}
