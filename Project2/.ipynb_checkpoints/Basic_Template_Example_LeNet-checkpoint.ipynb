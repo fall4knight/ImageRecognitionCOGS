{
 "cells": [
  {
   "cell_type": "markdown",
   "metadata": {},
   "source": [
    "# Convolutional Neural Network"
   ]
  },
  {
   "cell_type": "markdown",
   "metadata": {},
   "source": [
    "Compared to other machine learning methods, deep learning has far more possibility to be overfitting. Usually to minimize the side effects of overfitting, we apply methods such as early stopping or add randomness (flip, rotate, color/grayscale)."
   ]
  },
  {
   "cell_type": "markdown",
   "metadata": {},
   "source": [
    "In the following section, we are going to train a convolutional neural network based on LeNet. The dataset has already been normalized (if not one of the simplest way is to divide the dataset by 255).\n",
    "\n",
    "Relying on the high functionality and efficiency of GPU, we will train our LeNet model on the whole dataset hoping to get a better performance."
   ]
  },
  {
   "cell_type": "markdown",
   "metadata": {},
   "source": [
    "### 0. Basic Useful Setups:"
   ]
  },
  {
   "cell_type": "code",
   "execution_count": 1,
   "metadata": {},
   "outputs": [
    {
     "name": "stderr",
     "output_type": "stream",
     "text": [
      "c:\\users\\heath\\appdata\\local\\programs\\python\\python36\\lib\\site-packages\\h5py\\__init__.py:36: FutureWarning: Conversion of the second argument of issubdtype from `float` to `np.floating` is deprecated. In future, it will be treated as `np.float64 == np.dtype(float).type`.\n",
      "  from ._conv import register_converters as _register_converters\n",
      "Using TensorFlow backend.\n"
     ]
    }
   ],
   "source": [
    "### Basic setups\n",
    "import sys\n",
    "sys.path.append('./models/')\n",
    "# Enable automatic reload of libraries\n",
    "%load_ext autoreload\n",
    "# All modules are reloaded before every comment\n",
    "%autoreload 2b\n",
    "import keras"
   ]
  },
  {
   "cell_type": "markdown",
   "metadata": {},
   "source": [
    "### 1. Read MNIST using Keras"
   ]
  },
  {
   "cell_type": "code",
   "execution_count": 2,
   "metadata": {},
   "outputs": [
    {
     "name": "stdout",
     "output_type": "stream",
     "text": [
      "x_train shape: (60000, 28, 28, 1)\n",
      "60000 train samples\n",
      "10000 test samples\n"
     ]
    }
   ],
   "source": [
    "from utils import load_mnist\n",
    "(x_train, y_train), (x_test, y_test) = load_mnist()"
   ]
  },
  {
   "cell_type": "markdown",
   "metadata": {},
   "source": [
    "### 1. Load LetNet Model"
   ]
  },
  {
   "cell_type": "code",
   "execution_count": 3,
   "metadata": {
    "scrolled": false
   },
   "outputs": [
    {
     "name": "stdout",
     "output_type": "stream",
     "text": [
      "_________________________________________________________________\n",
      "Layer (type)                 Output Shape              Param #   \n",
      "=================================================================\n",
      "input_1 (InputLayer)         (None, 28, 28, 1)         0         \n",
      "_________________________________________________________________\n",
      "block1_conv1 (Conv2D)        (None, 28, 28, 32)        320       \n",
      "_________________________________________________________________\n",
      "block1_pool (MaxPooling2D)   (None, 14, 14, 32)        0         \n",
      "_________________________________________________________________\n",
      "block2_conv2 (Conv2D)        (None, 14, 14, 64)        18496     \n",
      "_________________________________________________________________\n",
      "block2_pool (MaxPooling2D)   (None, 7, 7, 64)          0         \n",
      "_________________________________________________________________\n",
      "dropout_1 (Dropout)          (None, 7, 7, 64)          0         \n",
      "_________________________________________________________________\n",
      "flatten (Flatten)            (None, 3136)              0         \n",
      "_________________________________________________________________\n",
      "fc1 (Dense)                  (None, 128)               401536    \n",
      "_________________________________________________________________\n",
      "predications (Dense)         (None, 10)                1290      \n",
      "=================================================================\n",
      "Total params: 421,642\n",
      "Trainable params: 421,642\n",
      "Non-trainable params: 0\n",
      "_________________________________________________________________\n"
     ]
    }
   ],
   "source": [
    "from keras.utils.vis_utils import plot_model # can be used to plot the model into a png file.\n",
    "# from LeNet import LeNet\n",
    "from myLeNet import LeNet\n",
    "NUM_CLASSES = 10\n",
    "model = LeNet(num_classes = NUM_CLASSES)\n",
    "model.compile(loss=keras.losses.categorical_crossentropy,\n",
    "              optimizer=keras.optimizers.Adadelta(),\n",
    "              metrics=['accuracy'])\n",
    "# You can save the model by specifying a path\n",
    "# modelPath = ____\n",
    "# model.save(modelPath)\n",
    "\n",
    "# You can also print out the model by typing\n",
    "model.summary()\n",
    "\n",
    "# You can plot the model into a png file and use it in your report.\n",
    "pngModelPath = \"model.png\"\n",
    "plot_model(model, to_file=pngModelPath, show_shapes=True)"
   ]
  },
  {
   "cell_type": "markdown",
   "metadata": {},
   "source": [
    "### 2. Train and Evaluate LeNet Model"
   ]
  },
  {
   "cell_type": "code",
   "execution_count": 4,
   "metadata": {},
   "outputs": [],
   "source": [
    "# helper function to plot the training history\n",
    "def plot_model_history(model_history):\n",
    "    fig, axs = plt.subplots(1,2,figsize=(15,5))\n",
    "    # summarize history for accuracy\n",
    "    axs[0].plot(range(1,len(model_history.history['acc'])+1),model_history.history['acc'])\n",
    "    axs[0].plot(range(1,len(model_history.history['val_acc'])+1),model_history.history['val_acc'])\n",
    "    axs[0].set_title('Model Accuracy')\n",
    "    axs[0].set_ylabel('Accuracy')\n",
    "    axs[0].set_xlabel('Epoch')\n",
    "    axs[0].set_xticks(np.arange(1,len(model_history.history['acc'])+1),len(model_history.history['acc'])/10)\n",
    "    axs[0].legend(['train', 'val'], loc='best')\n",
    "    # summarize history for loss\n",
    "    axs[1].plot(range(1,len(model_history.history['loss'])+1),model_history.history['loss'])\n",
    "    axs[1].plot(range(1,len(model_history.history['val_loss'])+1),model_history.history['val_loss'])\n",
    "    axs[1].set_title('Model Loss')\n",
    "    axs[1].set_ylabel('Loss')\n",
    "    axs[1].set_xlabel('Epoch')\n",
    "    axs[1].set_xticks(np.arange(1,len(model_history.history['loss'])+1),len(model_history.history['loss'])/10)\n",
    "    axs[1].legend(['train', 'val'], loc='best')\n",
    "    plt.show()"
   ]
  },
  {
   "cell_type": "code",
   "execution_count": 5,
   "metadata": {
    "scrolled": true
   },
   "outputs": [
    {
     "name": "stdout",
     "output_type": "stream",
     "text": [
      "Train on 60000 samples, validate on 10000 samples\n",
      "Epoch 1/30\n",
      "60000/60000 [==============================] - 10s 164us/step - loss: 0.2277 - acc: 0.9277 - val_loss: 0.0567 - val_acc: 0.9816\n",
      "Epoch 2/30\n",
      "60000/60000 [==============================] - 6s 94us/step - loss: 0.0601 - acc: 0.9813 - val_loss: 0.0360 - val_acc: 0.9891\n",
      "Epoch 3/30\n",
      "60000/60000 [==============================] - 6s 95us/step - loss: 0.0430 - acc: 0.9865 - val_loss: 0.0304 - val_acc: 0.9895\n",
      "Epoch 4/30\n",
      "60000/60000 [==============================] - 6s 94us/step - loss: 0.0341 - acc: 0.9891 - val_loss: 0.0288 - val_acc: 0.9903\n",
      "Epoch 5/30\n",
      "60000/60000 [==============================] - 6s 94us/step - loss: 0.0281 - acc: 0.9912 - val_loss: 0.0241 - val_acc: 0.9906\n",
      "Epoch 6/30\n",
      "60000/60000 [==============================] - 6s 93us/step - loss: 0.0241 - acc: 0.9923 - val_loss: 0.0229 - val_acc: 0.9923\n",
      "Epoch 7/30\n",
      "60000/60000 [==============================] - 6s 93us/step - loss: 0.0199 - acc: 0.9937 - val_loss: 0.0285 - val_acc: 0.9901\n",
      "Epoch 8/30\n",
      "60000/60000 [==============================] - 6s 95us/step - loss: 0.0177 - acc: 0.9945 - val_loss: 0.0256 - val_acc: 0.9911\n",
      "Epoch 9/30\n",
      "60000/60000 [==============================] - 6s 93us/step - loss: 0.0156 - acc: 0.9951 - val_loss: 0.0252 - val_acc: 0.9910\n",
      "Epoch 10/30\n",
      "60000/60000 [==============================] - 6s 93us/step - loss: 0.0137 - acc: 0.9954 - val_loss: 0.0257 - val_acc: 0.9914\n",
      "Epoch 11/30\n",
      "60000/60000 [==============================] - 6s 95us/step - loss: 0.0122 - acc: 0.9961 - val_loss: 0.0243 - val_acc: 0.9923\n",
      "Epoch 12/30\n",
      "60000/60000 [==============================] - 6s 94us/step - loss: 0.0098 - acc: 0.9968 - val_loss: 0.0287 - val_acc: 0.9913\n",
      "Epoch 13/30\n",
      "60000/60000 [==============================] - 6s 97us/step - loss: 0.0096 - acc: 0.9966 - val_loss: 0.0242 - val_acc: 0.9927\n",
      "Epoch 14/30\n",
      "60000/60000 [==============================] - 6s 94us/step - loss: 0.0091 - acc: 0.9969 - val_loss: 0.0320 - val_acc: 0.9917\n",
      "Epoch 15/30\n",
      "60000/60000 [==============================] - 6s 94us/step - loss: 0.0078 - acc: 0.9973 - val_loss: 0.0231 - val_acc: 0.9928\n",
      "Epoch 16/30\n",
      "60000/60000 [==============================] - 6s 95us/step - loss: 0.0072 - acc: 0.9975 - val_loss: 0.0260 - val_acc: 0.9929\n",
      "Epoch 17/30\n",
      "60000/60000 [==============================] - 6s 95us/step - loss: 0.0065 - acc: 0.9979 - val_loss: 0.0226 - val_acc: 0.9929\n",
      "Epoch 18/30\n",
      "60000/60000 [==============================] - 6s 93us/step - loss: 0.0063 - acc: 0.9979 - val_loss: 0.0237 - val_acc: 0.9933\n",
      "Epoch 19/30\n",
      "60000/60000 [==============================] - 6s 95us/step - loss: 0.0062 - acc: 0.9978 - val_loss: 0.0238 - val_acc: 0.9937\n",
      "Epoch 20/30\n",
      "60000/60000 [==============================] - 6s 93us/step - loss: 0.0053 - acc: 0.9983 - val_loss: 0.0237 - val_acc: 0.9936\n",
      "Epoch 21/30\n",
      "60000/60000 [==============================] - 6s 94us/step - loss: 0.0046 - acc: 0.9986 - val_loss: 0.0291 - val_acc: 0.9927\n",
      "Epoch 22/30\n",
      "60000/60000 [==============================] - 6s 95us/step - loss: 0.0044 - acc: 0.9985 - val_loss: 0.0258 - val_acc: 0.9933\n",
      "Epoch 23/30\n",
      "60000/60000 [==============================] - 6s 94us/step - loss: 0.0042 - acc: 0.9985 - val_loss: 0.0268 - val_acc: 0.9926\n",
      "Epoch 24/30\n",
      "60000/60000 [==============================] - 6s 93us/step - loss: 0.0035 - acc: 0.9990 - val_loss: 0.0279 - val_acc: 0.9931\n",
      "Epoch 25/30\n",
      "60000/60000 [==============================] - 6s 95us/step - loss: 0.0035 - acc: 0.9989 - val_loss: 0.0260 - val_acc: 0.9936\n",
      "Epoch 26/30\n",
      "60000/60000 [==============================] - 6s 94us/step - loss: 0.0037 - acc: 0.9986 - val_loss: 0.0247 - val_acc: 0.9933\n",
      "Epoch 27/30\n",
      "60000/60000 [==============================] - 6s 96us/step - loss: 0.0033 - acc: 0.9990 - val_loss: 0.0256 - val_acc: 0.9936\n",
      "Epoch 28/30\n",
      "60000/60000 [==============================] - 6s 95us/step - loss: 0.0039 - acc: 0.9986 - val_loss: 0.0293 - val_acc: 0.9932\n",
      "Epoch 29/30\n",
      "60000/60000 [==============================] - 6s 96us/step - loss: 0.0029 - acc: 0.9989 - val_loss: 0.0267 - val_acc: 0.9931\n",
      "Epoch 30/30\n",
      "60000/60000 [==============================] - 6s 96us/step - loss: 0.0029 - acc: 0.9990 - val_loss: 0.0301 - val_acc: 0.9933\n",
      "Test loss: 0.0301109037377684\n",
      "Test accuracy: 0.9933\n"
     ]
    }
   ],
   "source": [
    "# train model\n",
    "BATCH_SIZE = 128\n",
    "MAX_EPOCH = 30\n",
    "\n",
    "model_info = model.fit(x_train, y_train,\n",
    "          batch_size=BATCH_SIZE,\n",
    "          epochs=MAX_EPOCH,\n",
    "          verbose=1,\n",
    "          validation_data=(x_test, y_test))\n",
    "score = model.evaluate(x_test, y_test, verbose=0)\n",
    "print('Test loss:', score[0])\n",
    "print('Test accuracy:', score[1])"
   ]
  },
  {
   "cell_type": "code",
   "execution_count": 7,
   "metadata": {
    "scrolled": true
   },
   "outputs": [
    {
     "data": {
      "image/png": "[encoded data removed]",
      "text/plain": [
       "<Figure size 1080x360 with 2 Axes>"
      ]
     },
     "metadata": {},
     "output_type": "display_data"
    }
   ],
   "source": [
    "import matplotlib.pyplot as plt\n",
    "import numpy as np\n",
    "plot_model_history(model_info)"
   ]
  },
  {
   "cell_type": "markdown",
   "metadata": {},
   "source": [
    "Here in this LeNet model, I have set the batch size as 128 and maximum epoch as 30 to see a smoother and clearer overall view. The detailed architechture is shown previously.\n",
    "\n",
    "As we can see from the plotted results, starting from the 5th epoch (10th iteration), the validation lost starts to rise back up and tend to be stablized. By using GPU this Neural network can be trained efficiently.\n",
    "\n",
    "The final test loss is 0.029 and the test accuracy is 0.993, though the MNIST dataset is a well-organized, weird dataset (balanced, centered, small...), the result is pretty amazing already."
   ]
  },
  {
   "cell_type": "markdown",
   "metadata": {},
   "source": [
    "# 1-Nearest Neighbor"
   ]
  },
  {
   "cell_type": "markdown",
   "metadata": {},
   "source": [
    "In this section, we are going to train a 1-Nearest Neighbor classifier. As we all know, one huge con of this classifier is that the training process is extremely slow when dataset is big. Each time, we need to go over the dataset and compute the metric distance between the target and every single image in our training set."
   ]
  },
  {
   "cell_type": "markdown",
   "metadata": {},
   "source": [
    "I have tried once to train the model on the whole dataset by using ball-tree method (we will experiment more on this method) and it took about 15 minutes to train, which is not appreciable when we want to apply different experiment on this method."
   ]
  },
  {
   "cell_type": "markdown",
   "metadata": {},
   "source": [
    "Due to the lack of time and the pursuation to flexibility, starting from this section, we will choose a subset of MNIST to train our model and look at how different parameters affect the performance. For sure this will hurt the performance and the accuracy a lot, which is considered to be one trade-off."
   ]
  },
  {
   "cell_type": "markdown",
   "metadata": {},
   "source": [
    "First, since the labels data are given in one-hot, we need to convert them into decimal mode. Then to fit in 1-NN, we may also want to flatten our data from 3-dimension into 1-dimension."
   ]
  },
  {
   "cell_type": "code",
   "execution_count": 5,
   "metadata": {},
   "outputs": [],
   "source": [
    "import numpy as np\n",
    "labels = np.array(range(10)).reshape((10,1))\n",
    "x_train_flatten = x_train.reshape((x_train.shape[0], -1))\n",
    "x_test_flatten = x_test.reshape((x_test.shape[0], -1))\n",
    "y_train_labels = np.dot(y_train, labels).reshape((y_train.shape[0], ))\n",
    "y_test_labels = np.dot(y_test, labels).reshape((y_test.shape[0], ))"
   ]
  },
  {
   "cell_type": "markdown",
   "metadata": {},
   "source": [
    "Then we need to select a subset from them. Here, in order to train a more meaningful model, we need to make sure that our dataset is balanced. To force this, I draw equal number of samples from each differen label.\n",
    "\n",
    "In this section, we are using a subset of 10000 training data and 2000 testing data."
   ]
  },
  {
   "cell_type": "code",
   "execution_count": 6,
   "metadata": {},
   "outputs": [],
   "source": [
    "import numpy as np\n",
    "# choose a balanced subset of raining set\n",
    "size_train = 6000\n",
    "size_test = 10000\n",
    "\n",
    "temp = [0] * 10\n",
    "x_train_flatten_sub = []\n",
    "y_train_labels_sub = []\n",
    "for i in range(len(x_train_flatten)):\n",
    "    if temp[int(y_train_labels[i])] < (size_train / 10):\n",
    "        x_train_flatten_sub.append(x_train_flatten[i])\n",
    "        y_train_labels_sub.append(y_train_labels[i])\n",
    "        temp[int(y_train_labels[i])] += 1\n",
    "    if len(x_train_flatten_sub) == size_train:\n",
    "        break\n",
    "\n",
    "temp = [0] * 10\n",
    "x_test_flatten_sub = []\n",
    "y_test_labels_sub = []\n",
    "for i in range(len(x_test_flatten)):\n",
    "    if temp[int(y_test_labels[i])] < (size_test / 10):\n",
    "        x_test_flatten_sub.append(x_test_flatten[i])\n",
    "        y_test_labels_sub.append(y_test_labels[i])\n",
    "        temp[int(y_test_labels[i])] += 1\n",
    "    if len(x_test_flatten_sub) == size_test:\n",
    "        break\n",
    "\n",
    "x_train_flatten_sub, y_train_labels_sub = np.array(x_train_flatten_sub), np.array(y_train_labels_sub)\n",
    "x_test_flatten_sub, y_test_labels_sub = np.array(x_test_flatten_sub), np.array(y_test_labels_sub)"
   ]
  },
  {
   "cell_type": "markdown",
   "metadata": {},
   "source": [
    "As we mentioned before, one big con of this classifier is running time grows exponentially as the size of data set grows. For the whole dataset of MNIST, it took about 15 minutes to train the model by using ball-tree.\n",
    "Here we are going to train the model and test performance and running time on different parameters -- methods, metrics."
   ]
  },
  {
   "cell_type": "code",
   "execution_count": 7,
   "metadata": {},
   "outputs": [],
   "source": [
    "# helper functions to draw the confusion matrix\n",
    "def confusion(testLabels, predictLabels):\n",
    "    n = NUM_CLASSES\n",
    "    M = np.zeros((n,n))\n",
    "    for i in range(len(testLabels)):\n",
    "        M[int(testLabels[i]), int(predictLabels[i])] += 1\n",
    "    M /= np.linalg.norm(M, axis=1).reshape((n,1))\n",
    "    return M\n",
    "\n",
    "def VisualizeConfussion(M):\n",
    "    plt.figure(figsize=(14, 6))\n",
    "    plt.imshow(M)#, vmin=0, vmax=1)\n",
    "    plt.xticks(np.arange(NUM_CLASSES), np.arange(NUM_CLASSES), rotation='vertical')\n",
    "    plt.yticks(np.arange(NUM_CLASSES), np.arange(NUM_CLASSES))\n",
    "    plt.show()"
   ]
  },
  {
   "cell_type": "code",
   "execution_count": 8,
   "metadata": {},
   "outputs": [],
   "source": [
    "from sklearn.neighbors import KNeighborsClassifier\n",
    "import matplotlib.pyplot as plt"
   ]
  },
  {
   "cell_type": "code",
   "execution_count": 16,
   "metadata": {},
   "outputs": [
    {
     "name": "stdout",
     "output_type": "stream",
     "text": [
      "0.9379726139382791\n"
     ]
    },
    {
     "data": {
      "image/png": "[encoded data removed]",
      "text/plain": [
       "<Figure size 1008x432 with 1 Axes>"
      ]
     },
     "metadata": {},
     "output_type": "display_data"
    },
    {
     "name": "stdout",
     "output_type": "stream",
     "text": [
      "Wall time: 2.36 s\n"
     ]
    }
   ],
   "source": [
    "%%time\n",
    "neigh = KNeighborsClassifier(n_neighbors=1, metric='minkowski', algorithm='brute')\n",
    "neigh.fit(x_train_flatten_sub, y_train_labels_sub)\n",
    "print(neigh.score(x_test_flatten_sub, y_test_labels_sub))\n",
    "predict = neigh.predict(x_test_flatten_sub)\n",
    "VisualizeConfussion(confusion(y_test_labels_sub, predict))"
   ]
  },
  {
   "cell_type": "code",
   "execution_count": 17,
   "metadata": {},
   "outputs": [
    {
     "name": "stdout",
     "output_type": "stream",
     "text": [
      "0.9262211322297159\n"
     ]
    },
    {
     "data": {
      "image/png": "[encoded data removed]",
      "text/plain": [
       "<Figure size 1008x432 with 1 Axes>"
      ]
     },
     "metadata": {},
     "output_type": "display_data"
    },
    {
     "name": "stdout",
     "output_type": "stream",
     "text": [
      "Wall time: 2min 26s\n"
     ]
    }
   ],
   "source": [
    "%%time\n",
    "neigh = KNeighborsClassifier(n_neighbors=1, metric='manhattan', algorithm='ball_tree')\n",
    "neigh.fit(x_train_flatten_sub, y_train_labels_sub)\n",
    "print(neigh.score(x_test_flatten_sub, y_test_labels_sub))\n",
    "predict = neigh.predict(x_test_flatten_sub)\n",
    "VisualizeConfussion(confusion(y_test_labels_sub, predict))"
   ]
  },
  {
   "cell_type": "code",
   "execution_count": 11,
   "metadata": {},
   "outputs": [
    {
     "name": "stdout",
     "output_type": "stream",
     "text": [
      "0.9195\n"
     ]
    },
    {
     "data": {
      "image/png": "[encoded data removed]",
      "text/plain": [
       "<Figure size 1008x432 with 1 Axes>"
      ]
     },
     "metadata": {},
     "output_type": "display_data"
    },
    {
     "name": "stdout",
     "output_type": "stream",
     "text": [
      "Wall time: 52.9 s\n"
     ]
    }
   ],
   "source": [
    "%%time\n",
    "neigh = KNeighborsClassifier(n_neighbors=1, metric='minkowski', algorithm='ball_tree')\n",
    "neigh.fit(x_train_flatten_sub, y_train_labels_sub)\n",
    "print(neigh.score(x_test_flatten_sub, y_test_labels_sub))\n",
    "predict = neigh.predict(x_test_flatten_sub)\n",
    "VisualizeConfussion(confusion(y_test_labels_sub, predict))"
   ]
  },
  {
   "cell_type": "code",
   "execution_count": 12,
   "metadata": {},
   "outputs": [
    {
     "name": "stdout",
     "output_type": "stream",
     "text": [
      "0.9195\n"
     ]
    },
    {
     "data": {
      "image/png": "[encoded data removed]",
      "text/plain": [
       "<Figure size 1008x432 with 1 Axes>"
      ]
     },
     "metadata": {},
     "output_type": "display_data"
    },
    {
     "name": "stdout",
     "output_type": "stream",
     "text": [
      "Wall time: 1min 11s\n"
     ]
    }
   ],
   "source": [
    "%%time\n",
    "neigh = KNeighborsClassifier(n_neighbors=1, metric='minkowski', algorithm='kd_tree')\n",
    "neigh.fit(x_train_flatten_sub, y_train_labels_sub)\n",
    "print(neigh.score(x_test_flatten_sub, y_test_labels_sub))\n",
    "predict = neigh.predict(x_test_flatten_sub)\n",
    "VisualizeConfussion(confusion(y_test_labels_sub, predict))"
   ]
  },
  {
   "cell_type": "code",
   "execution_count": 74,
   "metadata": {},
   "outputs": [
    {
     "name": "stdout",
     "output_type": "stream",
     "text": [
      "0.9195\n"
     ]
    },
    {
     "data": {
      "image/png": "[encoded data removed]",
      "text/plain": [
       "<Figure size 1008x432 with 1 Axes>"
      ]
     },
     "metadata": {},
     "output_type": "display_data"
    },
    {
     "name": "stdout",
     "output_type": "stream",
     "text": [
      "Wall time: 52.7 s\n"
     ]
    }
   ],
   "source": [
    "%%time\n",
    "neigh = KNeighborsClassifier(n_neighbors=1, metric='minkowski', algorithm='ball_tree')\n",
    "neigh.fit(x_train_flatten_sub, y_train_labels_sub)\n",
    "print(neigh.score(x_test_flatten_sub, y_test_labels_sub))\n",
    "predict = neigh.predict(x_test_flatten_sub)\n",
    "VisualizeConfussion(confusion(y_test_labels_sub, predict))"
   ]
  },
  {
   "cell_type": "markdown",
   "metadata": {},
   "source": [
    "In this section, I have applied 1-Nearest Neighbor classifier on the MNIST dataset. As mentioned before, one big con of this classifier is running time grows exponentially as the size of data set grows.\n",
    "\n",
    "For MNIST, it took about 15 minutes to train the model."
   ]
  },
  {
   "cell_type": "markdown",
   "metadata": {},
   "source": [
    "One trick to speed up the training process for 1NN or KNN is to use Ball tree or KD tree."
   ]
  },
  {
   "cell_type": "markdown",
   "metadata": {},
   "source": [
    "# Support Vector Machine"
   ]
  },
  {
   "cell_type": "code",
   "execution_count": 21,
   "metadata": {},
   "outputs": [
    {
     "name": "stdout",
     "output_type": "stream",
     "text": [
      "0.8765\n"
     ]
    },
    {
     "data": {
      "image/png": "[encoded data removed]",
      "text/plain": [
       "<Figure size 1008x432 with 1 Axes>"
      ]
     },
     "metadata": {},
     "output_type": "display_data"
    },
    {
     "name": "stdout",
     "output_type": "stream",
     "text": [
      "Wall time: 3.17 s\n"
     ]
    }
   ],
   "source": [
    "%%time\n",
    "from sklearn.svm import LinearSVC\n",
    "clf = LinearSVC()\n",
    "clf.fit(x_train_flatten_sub, y_train_labels_sub)\n",
    "y_test_predict_svm = clf.predict(x_test_flatten)\n",
    "print(clf.score(x_test_flatten, y_test_labels))\n",
    "VisualizeConfussion(confusion(y_test_labels, y_test_predict_svm))"
   ]
  },
  {
   "cell_type": "code",
   "execution_count": 22,
   "metadata": {},
   "outputs": [
    {
     "name": "stdout",
     "output_type": "stream",
     "text": [
      "0.9113\n"
     ]
    },
    {
     "data": {
      "image/png": "[encoded data removed]",
      "text/plain": [
       "<Figure size 1008x432 with 1 Axes>"
      ]
     },
     "metadata": {},
     "output_type": "display_data"
    },
    {
     "name": "stdout",
     "output_type": "stream",
     "text": [
      "Wall time: 1min 44s\n"
     ]
    }
   ],
   "source": [
    "%%time\n",
    "from sklearn.svm import SVC\n",
    "clf = SVC()\n",
    "clf.fit(x_train_flatten_sub, y_train_labels_sub)\n",
    "y_test_predict_svm = clf.predict(x_test_flatten)\n",
    "print(clf.score(x_test_flatten, y_test_labels))\n",
    "VisualizeConfussion(confusion(y_test_labels, y_test_predict_svm))"
   ]
  },
  {
   "cell_type": "markdown",
   "metadata": {},
   "source": [
    "Using the support vector machine, we have acquired a classifier with accuracy 0.9446.\n",
    "Then by using the linear support vector machine, the accuracy is 0.9181."
   ]
  },
  {
   "cell_type": "markdown",
   "metadata": {},
   "source": [
    "# Spatial Pyramid Matching"
   ]
  },
  {
   "cell_type": "code",
   "execution_count": 9,
   "metadata": {},
   "outputs": [
    {
     "name": "stderr",
     "output_type": "stream",
     "text": [
      "c:\\users\\heath\\appdata\\local\\programs\\python\\python36\\lib\\site-packages\\sklearn\\cross_validation.py:41: DeprecationWarning: This module was deprecated in version 0.18 in favor of the model_selection module into which all the refactored classes and functions are moved. Also note that the interface of the new CV iterators are different from that of this module. This module will be removed in 0.20.\n",
      "  \"This module will be removed in 0.20.\", DeprecationWarning)\n",
      "c:\\users\\heath\\appdata\\local\\programs\\python\\python36\\lib\\site-packages\\sklearn\\grid_search.py:42: DeprecationWarning: This module was deprecated in version 0.18 in favor of the model_selection module into which all the refactored classes and functions are moved. This module will be removed in 0.20.\n",
      "  DeprecationWarning)\n"
     ]
    }
   ],
   "source": [
    "from spm import build_spatial_pyramid, spatial_pyramid_matching\n",
    "from utils2 import load_cifar10_data\n",
    "from utils2 import extract_DenseSift_descriptors\n",
    "from utils2 import build_codebook\n",
    "from utils2 import input_vector_encoder\n",
    "from classifier import svm_classifier"
   ]
  },
  {
   "cell_type": "code",
   "execution_count": 10,
   "metadata": {},
   "outputs": [],
   "source": [
    "import numpy as np\n",
    "# choose a balanced subset of raining set\n",
    "size_train = 6000\n",
    "size_test = 10000\n",
    "\n",
    "temp = [0] * 10\n",
    "x_train_sub = []\n",
    "y_train_labels_sub = []\n",
    "for i in range(len(x_train)):\n",
    "    if temp[int(y_train_labels[i])] < (size_train / 10):\n",
    "        x_train_sub.append(x_train[i])\n",
    "        y_train_labels_sub.append(y_train_labels[i])\n",
    "        temp[int(y_train_labels[i])] += 1\n",
    "    if len(x_train_sub) == size_train:\n",
    "        break\n",
    "\n",
    "temp = [0] * 10\n",
    "x_test_sub = []\n",
    "y_test_labels_sub = []\n",
    "for i in range(len(x_test)):\n",
    "    if temp[int(y_test_labels[i])] < (size_test / 10):\n",
    "        x_test_sub.append(x_test[i])\n",
    "        y_test_labels_sub.append(y_test_labels[i])\n",
    "        temp[int(y_test_labels[i])] += 1\n",
    "    if len(x_test_sub) == size_test:\n",
    "        break\n",
    "\n",
    "x_train_sub, y_train_labels_sub = np.array(x_train_sub), np.array(y_train_labels_sub)\n",
    "x_test_sub, y_test_labels_sub = np.array(x_test_sub), np.array(y_test_labels_sub)"
   ]
  },
  {
   "cell_type": "code",
   "execution_count": 11,
   "metadata": {},
   "outputs": [
    {
     "data": {
      "text/plain": [
       "(6000, 28, 28, 1)"
      ]
     },
     "execution_count": 11,
     "metadata": {},
     "output_type": "execute_result"
    }
   ],
   "source": [
    "x_train_sub.shape"
   ]
  },
  {
   "cell_type": "code",
   "execution_count": 12,
   "metadata": {},
   "outputs": [
    {
     "name": "stdout",
     "output_type": "stream",
     "text": [
      "Codebook Size: 100\n",
      "Pyramid level: 1\n"
     ]
    }
   ],
   "source": [
    "import spm\n",
    "print (\"Codebook Size: {:d}\".format(spm.VOC_SIZE))\n",
    "print (\"Pyramid level: {:d}\".format(spm.PYRAMID_LEVEL))"
   ]
  },
  {
   "cell_type": "code",
   "execution_count": 13,
   "metadata": {},
   "outputs": [
    {
     "name": "stdout",
     "output_type": "stream",
     "text": [
      "Dense SIFT feature extraction\n",
      "Wall time: 7.68 s\n"
     ]
    }
   ],
   "source": [
    "%%time\n",
    "print (\"Dense SIFT feature extraction\")\n",
    "x_train_sub_feature = [extract_DenseSift_descriptors(img) for img in x_train_sub]\n",
    "x_test_sub_feature = [extract_DenseSift_descriptors(img) for img in x_test_sub]\n",
    "x_train_kp, x_train_des = zip(*x_train_sub_feature)\n",
    "x_test_kp, x_test_des = zip(*x_test_sub_feature)"
   ]
  },
  {
   "cell_type": "code",
   "execution_count": 14,
   "metadata": {},
   "outputs": [
    {
     "name": "stdout",
     "output_type": "stream",
     "text": [
      "Building the codebook, it will take some time\n",
      "Wall time: 6min 21s\n"
     ]
    }
   ],
   "source": [
    "%%time\n",
    "import spm\n",
    "print (\"Building the codebook, it will take some time\")\n",
    "codebook = build_codebook(x_train_des, spm.VOC_SIZE)"
   ]
  },
  {
   "cell_type": "code",
   "execution_count": 15,
   "metadata": {
    "scrolled": true
   },
   "outputs": [
    {
     "name": "stdout",
     "output_type": "stream",
     "text": [
      "Spatial Pyramid Matching encoding\n",
      "Wall time: 6.06 s\n"
     ]
    }
   ],
   "source": [
    "%%time\n",
    "print (\"Spatial Pyramid Matching encoding\")\n",
    "x_train_sub = [spm.spatial_pyramid_matching(x_train_sub[i],\n",
    "                              x_train_des[i],\n",
    "                              codebook,\n",
    "                              level=spm.PYRAMID_LEVEL)\n",
    "                              for i in range(len(x_train_sub))]\n",
    "\n",
    "x_test_sub = [spm.spatial_pyramid_matching(x_test_sub[i],\n",
    "                                       x_test_des[i],\n",
    "                                       codebook,\n",
    "                                       level=spm.PYRAMID_LEVEL) for i in range(len(x_test_sub))]"
   ]
  },
  {
   "cell_type": "code",
   "execution_count": 16,
   "metadata": {
    "scrolled": false
   },
   "outputs": [
    {
     "name": "stdout",
     "output_type": "stream",
     "text": [
      "Tuning hyper-parameters\n",
      "\n",
      "Best parameters set found on development set:\n",
      "\n",
      "SVC(C=1.0, cache_size=200, class_weight=None, coef0=0.0,\n",
      "  decision_function_shape='ovr', degree=3, gamma=100.0, kernel='rbf',\n",
      "  max_iter=-1, probability=False, random_state=None, shrinking=True,\n",
      "  tol=0.001, verbose=False)\n",
      "\n",
      "Grid scores on development set:\n",
      "\n",
      "0.635 (+/-0.028) for {'C': 0.001, 'gamma': 0.001}\n",
      "0.635 (+/-0.028) for {'C': 0.001, 'gamma': 0.01}\n",
      "0.635 (+/-0.028) for {'C': 0.001, 'gamma': 0.1}\n",
      "0.635 (+/-0.028) for {'C': 0.001, 'gamma': 1.0}\n",
      "0.644 (+/-0.026) for {'C': 0.001, 'gamma': 10.0}\n",
      "0.695 (+/-0.043) for {'C': 0.001, 'gamma': 100.0}\n",
      "0.635 (+/-0.028) for {'C': 0.01, 'gamma': 0.001}\n",
      "0.635 (+/-0.028) for {'C': 0.01, 'gamma': 0.01}\n",
      "0.635 (+/-0.028) for {'C': 0.01, 'gamma': 0.1}\n",
      "0.635 (+/-0.028) for {'C': 0.01, 'gamma': 1.0}\n",
      "0.645 (+/-0.027) for {'C': 0.01, 'gamma': 10.0}\n",
      "0.696 (+/-0.040) for {'C': 0.01, 'gamma': 100.0}\n",
      "0.635 (+/-0.028) for {'C': 0.1, 'gamma': 0.001}\n",
      "0.635 (+/-0.028) for {'C': 0.1, 'gamma': 0.01}\n",
      "0.635 (+/-0.028) for {'C': 0.1, 'gamma': 0.1}\n",
      "0.637 (+/-0.027) for {'C': 0.1, 'gamma': 1.0}\n",
      "0.737 (+/-0.026) for {'C': 0.1, 'gamma': 10.0}\n",
      "0.785 (+/-0.029) for {'C': 0.1, 'gamma': 100.0}\n",
      "0.635 (+/-0.028) for {'C': 1.0, 'gamma': 0.001}\n",
      "0.635 (+/-0.028) for {'C': 1.0, 'gamma': 0.01}\n",
      "0.637 (+/-0.026) for {'C': 1.0, 'gamma': 0.1}\n",
      "0.741 (+/-0.026) for {'C': 1.0, 'gamma': 1.0}\n",
      "0.805 (+/-0.033) for {'C': 1.0, 'gamma': 10.0}\n",
      "0.839 (+/-0.032) for {'C': 1.0, 'gamma': 100.0}\n",
      "0.635 (+/-0.028) for {'C': 10.0, 'gamma': 0.001}\n",
      "0.638 (+/-0.026) for {'C': 10.0, 'gamma': 0.01}\n",
      "0.740 (+/-0.027) for {'C': 10.0, 'gamma': 0.1}\n",
      "0.800 (+/-0.027) for {'C': 10.0, 'gamma': 1.0}\n",
      "0.838 (+/-0.033) for {'C': 10.0, 'gamma': 10.0}\n",
      "0.828 (+/-0.034) for {'C': 10.0, 'gamma': 100.0}\n",
      "0.638 (+/-0.026) for {'C': 100.0, 'gamma': 0.001}\n",
      "0.740 (+/-0.027) for {'C': 100.0, 'gamma': 0.01}\n",
      "0.798 (+/-0.026) for {'C': 100.0, 'gamma': 0.1}\n",
      "0.824 (+/-0.028) for {'C': 100.0, 'gamma': 1.0}\n",
      "0.836 (+/-0.032) for {'C': 100.0, 'gamma': 10.0}\n",
      "0.817 (+/-0.038) for {'C': 100.0, 'gamma': 100.0}\n",
      "\n",
      "Detailed classification report:\n",
      "\n",
      "The model is trained on the full development set.\n",
      "The scores are computed on the full evaluation set.\n",
      "\n",
      "             precision    recall  f1-score   support\n",
      "\n",
      "        0.0       0.89      0.92      0.90       980\n",
      "        1.0       0.96      0.98      0.97      1000\n",
      "        2.0       0.83      0.76      0.79      1000\n",
      "        3.0       0.74      0.76      0.75      1000\n",
      "        4.0       0.90      0.88      0.89       982\n",
      "        5.0       0.81      0.76      0.79       892\n",
      "        6.0       0.91      0.92      0.92       958\n",
      "        7.0       0.79      0.84      0.81      1000\n",
      "        8.0       0.71      0.72      0.71       974\n",
      "        9.0       0.77      0.78      0.78      1000\n",
      "\n",
      "avg / total       0.83      0.83      0.83      9786\n",
      "\n",
      "Wall time: 3min 43s\n"
     ]
    }
   ],
   "source": [
    "%%time\n",
    "x_train_sub = np.asarray(x_train_sub)\n",
    "x_test_sub = np.asarray(x_test_sub)\n",
    "y_true, y_pred = svm_classifier(x_train_sub, y_train_labels_sub, x_test_sub, y_test_labels_sub)"
   ]
  },
  {
   "cell_type": "code",
   "execution_count": 19,
   "metadata": {},
   "outputs": [
    {
     "name": "stdout",
     "output_type": "stream",
     "text": [
      "0.8309830369916207\n"
     ]
    }
   ],
   "source": [
    "temp = [1 if y_true[i] == y_pred[i] else 0 for i in range(len(y_true))]\n",
    "print(sum(temp) * 1.0 / len(y_true))"
   ]
  },
  {
   "cell_type": "code",
   "execution_count": 17,
   "metadata": {},
   "outputs": [
    {
     "data": {
      "image/png": "[encoded data removed]",
      "text/plain": [
       "<Figure size 1008x432 with 1 Axes>"
      ]
     },
     "metadata": {},
     "output_type": "display_data"
    }
   ],
   "source": [
    "VisualizeConfussion(confusion(y_true, y_pred))"
   ]
  }
 ],
 "metadata": {
  "kernelspec": {
   "display_name": "Python 3",
   "language": "python",
   "name": "python3"
  },
  "language_info": {
   "codemirror_mode": {
    "name": "ipython",
    "version": 3
   },
   "file_extension": ".py",
   "mimetype": "text/x-python",
   "name": "python",
   "nbconvert_exporter": "python",
   "pygments_lexer": "ipython3",
   "version": "3.6.5"
  }
 },
 "nbformat": 4,
 "nbformat_minor": 1
}
