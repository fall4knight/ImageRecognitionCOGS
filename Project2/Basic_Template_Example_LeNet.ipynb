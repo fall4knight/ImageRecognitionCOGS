{
 "cells": [
  {
   "cell_type": "markdown",
   "metadata": {},
   "source": [
    "# Convolutional Neural Network"
   ]
  },
  {
   "cell_type": "markdown",
   "metadata": {},
   "source": [
    "### 0. Basic Useful Setups:"
   ]
  },
  {
   "cell_type": "code",
   "execution_count": 1,
   "metadata": {},
   "outputs": [
    {
     "name": "stderr",
     "output_type": "stream",
     "text": [
      "Using TensorFlow backend.\n",
      "/Library/Frameworks/Python.framework/Versions/3.5/lib/python3.5/importlib/_bootstrap.py:222: RuntimeWarning: compiletime version 3.6 of module 'tensorflow.python.framework.fast_tensor_util' does not match runtime version 3.5\n",
      "  return f(*args, **kwds)\n"
     ]
    }
   ],
   "source": [
    "### Basic setups\n",
    "import sys\n",
    "sys.path.append('./models/')\n",
    "# Enable automatic reload of libraries\n",
    "%load_ext autoreload\n",
    "# All modules are reloaded before every comment\n",
    "%autoreload 2b\n",
    "import keras"
   ]
  },
  {
   "cell_type": "markdown",
   "metadata": {},
   "source": [
    "### 1. Read MNIST using Keras"
   ]
  },
  {
   "cell_type": "code",
   "execution_count": 2,
   "metadata": {},
   "outputs": [
    {
     "name": "stdout",
     "output_type": "stream",
     "text": [
      "x_train shape: (60000, 28, 28, 1)\n",
      "60000 train samples\n",
      "10000 test samples\n"
     ]
    }
   ],
   "source": [
    "from utils import load_mnist\n",
    "(x_train, y_train), (x_test, y_test) = load_mnist()"
   ]
  },
  {
   "cell_type": "code",
   "execution_count": 3,
   "metadata": {},
   "outputs": [],
   "source": [
    "def plot_model_history(model_history):\n",
    "    fig, axs = plt.subplots(1,2,figsize=(15,5))\n",
    "    # summarize history for accuracy\n",
    "    axs[0].plot(range(1,len(model_history.history['acc'])+1),model_history.history['acc'])\n",
    "    axs[0].plot(range(1,len(model_history.history['val_acc'])+1),model_history.history['val_acc'])\n",
    "    axs[0].set_title('Model Accuracy')\n",
    "    axs[0].set_ylabel('Accuracy')\n",
    "    axs[0].set_xlabel('Epoch')\n",
    "    axs[0].set_xticks(np.arange(1,len(model_history.history['acc'])+1),len(model_history.history['acc'])/10)\n",
    "    axs[0].legend(['train', 'val'], loc='best')\n",
    "    # summarize history for loss\n",
    "    axs[1].plot(range(1,len(model_history.history['loss'])+1),model_history.history['loss'])\n",
    "    axs[1].plot(range(1,len(model_history.history['val_loss'])+1),model_history.history['val_loss'])\n",
    "    axs[1].set_title('Model Loss')\n",
    "    axs[1].set_ylabel('Loss')\n",
    "    axs[1].set_xlabel('Epoch')\n",
    "    axs[1].set_xticks(np.arange(1,len(model_history.history['loss'])+1),len(model_history.history['loss'])/10)\n",
    "    axs[1].legend(['train', 'val'], loc='best')\n",
    "    plt.show()"
   ]
  },
  {
   "cell_type": "markdown",
   "metadata": {},
   "source": [
    "### 1. Load LetNet Model"
   ]
  },
  {
   "cell_type": "code",
   "execution_count": 4,
   "metadata": {},
   "outputs": [
    {
     "name": "stdout",
     "output_type": "stream",
     "text": [
      "_________________________________________________________________\n",
      "Layer (type)                 Output Shape              Param #   \n",
      "=================================================================\n",
      "input_1 (InputLayer)         (None, 28, 28, 1)         0         \n",
      "_________________________________________________________________\n",
      "block1_conv1 (Conv2D)        (None, 28, 28, 20)        520       \n",
      "_________________________________________________________________\n",
      "block1_pool (MaxPooling2D)   (None, 14, 14, 20)        0         \n",
      "_________________________________________________________________\n",
      "block2_conv2 (Conv2D)        (None, 14, 14, 50)        25050     \n",
      "_________________________________________________________________\n",
      "block2_pool (MaxPooling2D)   (None, 7, 7, 50)          0         \n",
      "_________________________________________________________________\n",
      "flatten (Flatten)            (None, 2450)              0         \n",
      "_________________________________________________________________\n",
      "fc1 (Dense)                  (None, 500)               1225500   \n",
      "_________________________________________________________________\n",
      "predications (Dense)         (None, 10)                5010      \n",
      "=================================================================\n",
      "Total params: 1,256,080\n",
      "Trainable params: 1,256,080\n",
      "Non-trainable params: 0\n",
      "_________________________________________________________________\n"
     ]
    },
    {
     "ename": "ImportError",
     "evalue": "Failed to import `pydot`. Please install `pydot`. For example with `pip install pydot`.",
     "output_type": "error",
     "traceback": [
      "\u001b[0;31m---------------------------------------------------------------------------\u001b[0m",
      "\u001b[0;31mImportError\u001b[0m                               Traceback (most recent call last)",
      "\u001b[0;32m<ipython-input-4-c4472337c020>\u001b[0m in \u001b[0;36m<module>\u001b[0;34m()\u001b[0m\n\u001b[1;32m     15\u001b[0m \u001b[0;31m# You can plot the model into a png file and use it in your report.\u001b[0m\u001b[0;34m\u001b[0m\u001b[0;34m\u001b[0m\u001b[0m\n\u001b[1;32m     16\u001b[0m \u001b[0mpngModelPath\u001b[0m \u001b[0;34m=\u001b[0m \u001b[0;34m\"model.png\"\u001b[0m\u001b[0;34m\u001b[0m\u001b[0m\n\u001b[0;32m---> 17\u001b[0;31m \u001b[0mplot_model\u001b[0m\u001b[0;34m(\u001b[0m\u001b[0mmodel\u001b[0m\u001b[0;34m,\u001b[0m \u001b[0mto_file\u001b[0m\u001b[0;34m=\u001b[0m\u001b[0mpngModelPath\u001b[0m\u001b[0;34m,\u001b[0m \u001b[0mshow_shapes\u001b[0m\u001b[0;34m=\u001b[0m\u001b[0;32mTrue\u001b[0m\u001b[0;34m)\u001b[0m\u001b[0;34m\u001b[0m\u001b[0m\n\u001b[0m",
      "\u001b[0;32m/Library/Frameworks/Python.framework/Versions/3.5/lib/python3.5/site-packages/keras/utils/vis_utils.py\u001b[0m in \u001b[0;36mplot_model\u001b[0;34m(model, to_file, show_shapes, show_layer_names, rankdir)\u001b[0m\n\u001b[1;32m    132\u001b[0m             \u001b[0;34m'LR'\u001b[0m \u001b[0mcreates\u001b[0m \u001b[0ma\u001b[0m \u001b[0mhorizontal\u001b[0m \u001b[0mplot\u001b[0m\u001b[0;34m.\u001b[0m\u001b[0;34m\u001b[0m\u001b[0m\n\u001b[1;32m    133\u001b[0m     \"\"\"\n\u001b[0;32m--> 134\u001b[0;31m     \u001b[0mdot\u001b[0m \u001b[0;34m=\u001b[0m \u001b[0mmodel_to_dot\u001b[0m\u001b[0;34m(\u001b[0m\u001b[0mmodel\u001b[0m\u001b[0;34m,\u001b[0m \u001b[0mshow_shapes\u001b[0m\u001b[0;34m,\u001b[0m \u001b[0mshow_layer_names\u001b[0m\u001b[0;34m,\u001b[0m \u001b[0mrankdir\u001b[0m\u001b[0;34m)\u001b[0m\u001b[0;34m\u001b[0m\u001b[0m\n\u001b[0m\u001b[1;32m    135\u001b[0m     \u001b[0m_\u001b[0m\u001b[0;34m,\u001b[0m \u001b[0mextension\u001b[0m \u001b[0;34m=\u001b[0m \u001b[0mos\u001b[0m\u001b[0;34m.\u001b[0m\u001b[0mpath\u001b[0m\u001b[0;34m.\u001b[0m\u001b[0msplitext\u001b[0m\u001b[0;34m(\u001b[0m\u001b[0mto_file\u001b[0m\u001b[0;34m)\u001b[0m\u001b[0;34m\u001b[0m\u001b[0m\n\u001b[1;32m    136\u001b[0m     \u001b[0;32mif\u001b[0m \u001b[0;32mnot\u001b[0m \u001b[0mextension\u001b[0m\u001b[0;34m:\u001b[0m\u001b[0;34m\u001b[0m\u001b[0m\n",
      "\u001b[0;32m/Library/Frameworks/Python.framework/Versions/3.5/lib/python3.5/site-packages/keras/utils/vis_utils.py\u001b[0m in \u001b[0;36mmodel_to_dot\u001b[0;34m(model, show_shapes, show_layer_names, rankdir)\u001b[0m\n\u001b[1;32m     53\u001b[0m     \u001b[0;32mfrom\u001b[0m \u001b[0;34m.\u001b[0m\u001b[0;34m.\u001b[0m\u001b[0mmodels\u001b[0m \u001b[0;32mimport\u001b[0m \u001b[0mSequential\u001b[0m\u001b[0;34m\u001b[0m\u001b[0m\n\u001b[1;32m     54\u001b[0m \u001b[0;34m\u001b[0m\u001b[0m\n\u001b[0;32m---> 55\u001b[0;31m     \u001b[0m_check_pydot\u001b[0m\u001b[0;34m(\u001b[0m\u001b[0;34m)\u001b[0m\u001b[0;34m\u001b[0m\u001b[0m\n\u001b[0m\u001b[1;32m     56\u001b[0m     \u001b[0mdot\u001b[0m \u001b[0;34m=\u001b[0m \u001b[0mpydot\u001b[0m\u001b[0;34m.\u001b[0m\u001b[0mDot\u001b[0m\u001b[0;34m(\u001b[0m\u001b[0;34m)\u001b[0m\u001b[0;34m\u001b[0m\u001b[0m\n\u001b[1;32m     57\u001b[0m     \u001b[0mdot\u001b[0m\u001b[0;34m.\u001b[0m\u001b[0mset\u001b[0m\u001b[0;34m(\u001b[0m\u001b[0;34m'rankdir'\u001b[0m\u001b[0;34m,\u001b[0m \u001b[0mrankdir\u001b[0m\u001b[0;34m)\u001b[0m\u001b[0;34m\u001b[0m\u001b[0m\n",
      "\u001b[0;32m/Library/Frameworks/Python.framework/Versions/3.5/lib/python3.5/site-packages/keras/utils/vis_utils.py\u001b[0m in \u001b[0;36m_check_pydot\u001b[0;34m()\u001b[0m\n\u001b[1;32m     18\u001b[0m     \u001b[0;32mif\u001b[0m \u001b[0mpydot\u001b[0m \u001b[0;32mis\u001b[0m \u001b[0;32mNone\u001b[0m\u001b[0;34m:\u001b[0m\u001b[0;34m\u001b[0m\u001b[0m\n\u001b[1;32m     19\u001b[0m         raise ImportError(\n\u001b[0;32m---> 20\u001b[0;31m             \u001b[0;34m'Failed to import `pydot`. '\u001b[0m\u001b[0;34m\u001b[0m\u001b[0m\n\u001b[0m\u001b[1;32m     21\u001b[0m             \u001b[0;34m'Please install `pydot`. '\u001b[0m\u001b[0;34m\u001b[0m\u001b[0m\n\u001b[1;32m     22\u001b[0m             'For example with `pip install pydot`.')\n",
      "\u001b[0;31mImportError\u001b[0m: Failed to import `pydot`. Please install `pydot`. For example with `pip install pydot`."
     ]
    }
   ],
   "source": [
    "from keras.utils.vis_utils import plot_model # can be used to plot the model into a png file.\n",
    "from LeNet import LeNet\n",
    "NUM_CLASSES = 10\n",
    "model = LeNet(num_classes = NUM_CLASSES)\n",
    "model.compile(loss=keras.losses.categorical_crossentropy,\n",
    "              optimizer=keras.optimizers.Adadelta(),\n",
    "              metrics=['accuracy'])\n",
    "# You can save the model by specifying a path\n",
    "# modelPath = ____\n",
    "# model.save(modelPath)\n",
    "\n",
    "# You can also print out the model by typing\n",
    "model.summary()\n",
    "\n",
    "# You can plot the model into a png file and use it in your report.\n",
    "pngModelPath = \"model.png\"\n",
    "plot_model(model, to_file=pngModelPath, show_shapes=True)"
   ]
  },
  {
   "cell_type": "markdown",
   "metadata": {},
   "source": [
    "### 2. Train and Evaluate LeNet Model"
   ]
  },
  {
   "cell_type": "code",
   "execution_count": 21,
   "metadata": {
    "scrolled": false
   },
   "outputs": [
    {
     "name": "stdout",
     "output_type": "stream",
     "text": [
      "Train on 60000 samples, validate on 10000 samples\n",
      "Epoch 1/30\n",
      "60000/60000 [==============================] - 6s 103us/step - loss: 0.1845 - acc: 0.9415 - val_loss: 0.0416 - val_acc: 0.9861\n",
      "Epoch 2/30\n",
      "60000/60000 [==============================] - 5s 88us/step - loss: 0.0459 - acc: 0.9855 - val_loss: 0.0349 - val_acc: 0.9878\n",
      "Epoch 3/30\n",
      "60000/60000 [==============================] - 5s 89us/step - loss: 0.0306 - acc: 0.9904 - val_loss: 0.0247 - val_acc: 0.9918\n",
      "Epoch 4/30\n",
      "60000/60000 [==============================] - 5s 89us/step - loss: 0.0218 - acc: 0.9930 - val_loss: 0.0214 - val_acc: 0.9927\n",
      "Epoch 5/30\n",
      "60000/60000 [==============================] - 5s 89us/step - loss: 0.0154 - acc: 0.9952 - val_loss: 0.0254 - val_acc: 0.9905\n",
      "Epoch 6/30\n",
      "60000/60000 [==============================] - 5s 89us/step - loss: 0.0113 - acc: 0.9965 - val_loss: 0.0235 - val_acc: 0.9921\n",
      "Epoch 7/30\n",
      "60000/60000 [==============================] - 5s 89us/step - loss: 0.0083 - acc: 0.9976 - val_loss: 0.0217 - val_acc: 0.9931\n",
      "Epoch 8/30\n",
      "60000/60000 [==============================] - 5s 89us/step - loss: 0.0061 - acc: 0.9983 - val_loss: 0.0240 - val_acc: 0.9929\n",
      "Epoch 9/30\n",
      "60000/60000 [==============================] - 5s 89us/step - loss: 0.0046 - acc: 0.9987 - val_loss: 0.0236 - val_acc: 0.9923\n",
      "Epoch 10/30\n",
      "60000/60000 [==============================] - 5s 89us/step - loss: 0.0033 - acc: 0.9991 - val_loss: 0.0328 - val_acc: 0.9914\n",
      "Epoch 11/30\n",
      "60000/60000 [==============================] - 5s 90us/step - loss: 0.0028 - acc: 0.9991 - val_loss: 0.0250 - val_acc: 0.9936\n",
      "Epoch 12/30\n",
      "60000/60000 [==============================] - 5s 89us/step - loss: 0.0026 - acc: 0.9992 - val_loss: 0.0236 - val_acc: 0.9939\n",
      "Epoch 13/30\n",
      "60000/60000 [==============================] - 5s 89us/step - loss: 0.0015 - acc: 0.9996 - val_loss: 0.0249 - val_acc: 0.9935\n",
      "Epoch 14/30\n",
      "60000/60000 [==============================] - 5s 89us/step - loss: 0.0012 - acc: 0.9997 - val_loss: 0.0258 - val_acc: 0.9937\n",
      "Epoch 15/30\n",
      "60000/60000 [==============================] - 5s 89us/step - loss: 7.9914e-04 - acc: 0.9998 - val_loss: 0.0265 - val_acc: 0.9936\n",
      "Epoch 16/30\n",
      "60000/60000 [==============================] - 5s 89us/step - loss: 7.7153e-04 - acc: 0.9998 - val_loss: 0.0278 - val_acc: 0.9936\n",
      "Epoch 17/30\n",
      "60000/60000 [==============================] - 5s 90us/step - loss: 4.6234e-04 - acc: 0.9999 - val_loss: 0.0274 - val_acc: 0.9943\n",
      "Epoch 18/30\n",
      "60000/60000 [==============================] - 5s 89us/step - loss: 4.3750e-04 - acc: 0.9999 - val_loss: 0.0278 - val_acc: 0.9941\n",
      "Epoch 19/30\n",
      "60000/60000 [==============================] - 5s 90us/step - loss: 4.4173e-04 - acc: 0.9999 - val_loss: 0.0277 - val_acc: 0.9939\n",
      "Epoch 20/30\n",
      "60000/60000 [==============================] - 5s 91us/step - loss: 3.9400e-04 - acc: 1.0000 - val_loss: 0.0294 - val_acc: 0.9937\n",
      "Epoch 21/30\n",
      "60000/60000 [==============================] - 5s 88us/step - loss: 3.9324e-04 - acc: 1.0000 - val_loss: 0.0294 - val_acc: 0.9937\n",
      "Epoch 22/30\n",
      "60000/60000 [==============================] - 5s 89us/step - loss: 3.0113e-04 - acc: 1.0000 - val_loss: 0.0310 - val_acc: 0.9934\n",
      "Epoch 23/30\n",
      "60000/60000 [==============================] - 5s 89us/step - loss: 4.6178e-04 - acc: 0.9999 - val_loss: 0.0298 - val_acc: 0.9937\n",
      "Epoch 24/30\n",
      "60000/60000 [==============================] - 5s 87us/step - loss: 2.8863e-04 - acc: 1.0000 - val_loss: 0.0303 - val_acc: 0.9936\n",
      "Epoch 25/30\n",
      "60000/60000 [==============================] - 5s 87us/step - loss: 2.8500e-04 - acc: 1.0000 - val_loss: 0.0309 - val_acc: 0.9937\n",
      "Epoch 26/30\n",
      "60000/60000 [==============================] - 5s 88us/step - loss: 2.8297e-04 - acc: 1.0000 - val_loss: 0.0312 - val_acc: 0.9939\n",
      "Epoch 27/30\n",
      "60000/60000 [==============================] - 6s 94us/step - loss: 2.8151e-04 - acc: 1.0000 - val_loss: 0.0315 - val_acc: 0.9939\n",
      "Epoch 28/30\n",
      "60000/60000 [==============================] - 5s 90us/step - loss: 2.8047e-04 - acc: 1.0000 - val_loss: 0.0318 - val_acc: 0.9938\n",
      "Epoch 29/30\n",
      "60000/60000 [==============================] - 6s 93us/step - loss: 2.7956e-04 - acc: 1.0000 - val_loss: 0.0318 - val_acc: 0.9938\n",
      "Epoch 30/30\n",
      "60000/60000 [==============================] - 5s 89us/step - loss: 2.7872e-04 - acc: 1.0000 - val_loss: 0.0320 - val_acc: 0.9938\n",
      "Test loss: 0.0319886585559281\n",
      "Test accuracy: 0.9938\n"
     ]
    }
   ],
   "source": [
    "# train model\n",
    "BATCH_SIZE = 128\n",
    "MAX_EPOCH = 30\n",
    "\n",
    "model_info = model.fit(x_train, y_train,\n",
    "          batch_size=BATCH_SIZE,\n",
    "          epochs=MAX_EPOCH,\n",
    "          verbose=1,\n",
    "          validation_data=(x_test, y_test))\n",
    "score = model.evaluate(x_test, y_test, verbose=0)\n",
    "print('Test loss:', score[0])\n",
    "print('Test accuracy:', score[1])"
   ]
  },
  {
   "cell_type": "code",
   "execution_count": 22,
   "metadata": {},
   "outputs": [
    {
     "data": {
      "image/png": "[encoded data removed]",
      "text/plain": [
       "<Figure size 1080x360 with 2 Axes>"
      ]
     },
     "metadata": {},
     "output_type": "display_data"
    }
   ],
   "source": [
    "import matplotlib.pyplot as plt\n",
    "import numpy as np\n",
    "plot_model_history(model_info)"
   ]
  },
  {
   "cell_type": "markdown",
   "metadata": {},
   "source": [
    "Here in this LeNet model, I have set the batch size as 128 and maximum epoch as 30 to see a smoother and clearer overall view. The detailed architechture is shown previously.\n",
    "\n",
    "As we can see from the plotted results, starting from the 4th epoch (8th iteration), the validation lost starts to rise back up and tend to be stablized. By using GPU this Neural network can be trained efficiently.\n",
    "\n",
    "The final test loss is 0.032 and the test accuracy is 0.9938, though the MNIST dataset is a well-organized, weird dataset (balanced, centered, small...), the result is pretty amazing already."
   ]
  },
  {
   "cell_type": "markdown",
   "metadata": {},
   "source": [
    "# 1-Nearest Neighbor"
   ]
  },
  {
   "cell_type": "code",
   "execution_count": 5,
   "metadata": {},
   "outputs": [],
   "source": [
    "import numpy as np\n",
    "labels = np.array(range(10)).reshape((10,1))\n",
    "x_train_flatten = x_train.reshape((x_train.shape[0], -1))\n",
    "x_test_flatten = x_test.reshape((x_test.shape[0], -1))\n",
    "y_train_labels = np.dot(y_train, labels).reshape((y_train.shape[0], ))\n",
    "y_test_labels = np.dot(y_test, labels).reshape((y_test.shape[0], ))"
   ]
  },
  {
   "cell_type": "code",
   "execution_count": 7,
   "metadata": {},
   "outputs": [],
   "source": [
    "def distance(x1, x2):\n",
    "    return np.sqrt(np.dot(x1-x2, x1-x2))"
   ]
  },
  {
   "cell_type": "code",
   "execution_count": 8,
   "metadata": {},
   "outputs": [],
   "source": [
    "def NN(x):\n",
    "    dis = np.array([distance(x,xp) for xp in x_train_flatten] )\n",
    "    return y_train_labels[int(np.argmin(dis))]"
   ]
  },
  {
   "cell_type": "code",
   "execution_count": 9,
   "metadata": {},
   "outputs": [],
   "source": [
    "from sklearn.neighbors import KNeighborsClassifier"
   ]
  },
  {
   "cell_type": "code",
   "execution_count": 10,
   "metadata": {},
   "outputs": [
    {
     "data": {
      "text/plain": [
       "KNeighborsClassifier(algorithm='auto', leaf_size=30, metric='minkowski',\n",
       "           metric_params=None, n_jobs=1, n_neighbors=1, p=2,\n",
       "           weights='uniform')"
      ]
     },
     "execution_count": 10,
     "metadata": {},
     "output_type": "execute_result"
    }
   ],
   "source": [
    "neigh = KNeighborsClassifier(n_neighbors=1)\n",
    "neigh.fit(x_train_flatten, y_train_labels)"
   ]
  },
  {
   "cell_type": "code",
   "execution_count": 11,
   "metadata": {
    "scrolled": true
   },
   "outputs": [
    {
     "name": "stdout",
     "output_type": "stream",
     "text": [
      "Wall time: 14min 43s\n"
     ]
    }
   ],
   "source": [
    "%%time\n",
    "y_test_predict = neigh.predict(x_test_flatten)"
   ]
  },
  {
   "cell_type": "code",
   "execution_count": 25,
   "metadata": {},
   "outputs": [
    {
     "data": {
      "text/plain": [
       "0.9691"
      ]
     },
     "execution_count": 25,
     "metadata": {},
     "output_type": "execute_result"
    }
   ],
   "source": [
    "neigh.score(x_test_flatten, y_test_labels)"
   ]
  },
  {
   "cell_type": "markdown",
   "metadata": {},
   "source": [
    "In this section, I have applied 1-Nearest Neighbor classifier on the MNIST dataset. As we all know, one big con of this classifier is running time grows exponentially as the size of data set grows.\n",
    "\n",
    "For MNIST, it took about 15 minutes to train the model."
   ]
  },
  {
   "cell_type": "markdown",
   "metadata": {},
   "source": [
    "One trick to speed up the training process for 1NN or KNN is to use Ball tree or KD tree."
   ]
  },
  {
   "cell_type": "markdown",
   "metadata": {},
   "source": [
    "Different metric contributes to different performance. In this case, Euclidean probably will not be a good choice. By using Minkowski as the metric, the final accuracy is 0.9691 on the MNIST dataset."
   ]
  },
  {
   "cell_type": "markdown",
   "metadata": {},
   "source": [
    "# Support Vector Machine"
   ]
  },
  {
   "cell_type": "code",
   "execution_count": 12,
   "metadata": {},
   "outputs": [
    {
     "data": {
      "text/plain": [
       "SVC(C=1.0, cache_size=200, class_weight=None, coef0=0.0,\n",
       "  decision_function_shape='ovr', degree=3, gamma='auto', kernel='rbf',\n",
       "  max_iter=-1, probability=False, random_state=None, shrinking=True,\n",
       "  tol=0.001, verbose=False)"
      ]
     },
     "execution_count": 12,
     "metadata": {},
     "output_type": "execute_result"
    }
   ],
   "source": [
    "from sklearn.svm import SVC\n",
    "clf = SVC()\n",
    "clf.fit(x_train_flatten, y_train_labels)"
   ]
  },
  {
   "cell_type": "code",
   "execution_count": 13,
   "metadata": {},
   "outputs": [],
   "source": [
    "y_test_predict_svm = clf.predict(x_test_flatten)"
   ]
  },
  {
   "cell_type": "code",
   "execution_count": 26,
   "metadata": {},
   "outputs": [
    {
     "data": {
      "text/plain": [
       "0.9446"
      ]
     },
     "execution_count": 26,
     "metadata": {},
     "output_type": "execute_result"
    }
   ],
   "source": [
    "clf.score(x_test_flatten, y_test_labels)"
   ]
  },
  {
   "cell_type": "markdown",
   "metadata": {},
   "source": [
    "Using the support vector machine, we have acquired a classifier with accuracy 0.9446."
   ]
  },
  {
   "cell_type": "markdown",
   "metadata": {},
   "source": [
    "# Spatial Pyramid Matching"
   ]
  },
  {
   "cell_type": "code",
   "execution_count": 5,
   "metadata": {},
   "outputs": [
    {
     "name": "stderr",
     "output_type": "stream",
     "text": [
      "/Library/Frameworks/Python.framework/Versions/3.5/lib/python3.5/site-packages/sklearn/cross_validation.py:41: DeprecationWarning: This module was deprecated in version 0.18 in favor of the model_selection module into which all the refactored classes and functions are moved. Also note that the interface of the new CV iterators are different from that of this module. This module will be removed in 0.20.\n",
      "  \"This module will be removed in 0.20.\", DeprecationWarning)\n",
      "/Library/Frameworks/Python.framework/Versions/3.5/lib/python3.5/site-packages/sklearn/grid_search.py:42: DeprecationWarning: This module was deprecated in version 0.18 in favor of the model_selection module into which all the refactored classes and functions are moved. This module will be removed in 0.20.\n",
      "  DeprecationWarning)\n"
     ]
    }
   ],
   "source": [
    "from spm import build_spatial_pyramid, spatial_pyramid_matching"
   ]
  },
  {
   "cell_type": "code",
   "execution_count": 6,
   "metadata": {},
   "outputs": [],
   "source": [
    "from utils2 import load_cifar10_data\n",
    "from utils2 import extract_DenseSift_descriptors\n",
    "from utils2 import build_codebook\n",
    "from utils2 import input_vector_encoder\n",
    "from classifier import svm_classifier"
   ]
  },
  {
   "cell_type": "code",
   "execution_count": 7,
   "metadata": {},
   "outputs": [
    {
     "data": {
      "text/plain": [
       "(60000, 28, 28, 1)"
      ]
     },
     "execution_count": 7,
     "metadata": {},
     "output_type": "execute_result"
    }
   ],
   "source": [
    "x_train.shape"
   ]
  },
  {
   "cell_type": "code",
   "execution_count": 8,
   "metadata": {},
   "outputs": [
    {
     "ename": "AttributeError",
     "evalue": "module 'cv2.cv2' has no attribute 'xfeatures2d'",
     "output_type": "error",
     "traceback": [
      "\u001b[0;31m---------------------------------------------------------------------------\u001b[0m",
      "\u001b[0;31mAttributeError\u001b[0m                            Traceback (most recent call last)",
      "\u001b[0;32m<ipython-input-8-2a6dda7033fd>\u001b[0m in \u001b[0;36m<module>\u001b[0;34m()\u001b[0m\n\u001b[0;32m----> 1\u001b[0;31m \u001b[0mx_test_feature\u001b[0m \u001b[0;34m=\u001b[0m \u001b[0;34m[\u001b[0m\u001b[0mextract_DenseSift_descriptors\u001b[0m\u001b[0;34m(\u001b[0m\u001b[0mimg\u001b[0m\u001b[0;34m)\u001b[0m \u001b[0;32mfor\u001b[0m \u001b[0mimg\u001b[0m \u001b[0;32min\u001b[0m \u001b[0mx_test\u001b[0m\u001b[0;34m]\u001b[0m\u001b[0;34m\u001b[0m\u001b[0m\n\u001b[0m",
      "\u001b[0;32m<ipython-input-8-2a6dda7033fd>\u001b[0m in \u001b[0;36m<listcomp>\u001b[0;34m(.0)\u001b[0m\n\u001b[0;32m----> 1\u001b[0;31m \u001b[0mx_test_feature\u001b[0m \u001b[0;34m=\u001b[0m \u001b[0;34m[\u001b[0m\u001b[0mextract_DenseSift_descriptors\u001b[0m\u001b[0;34m(\u001b[0m\u001b[0mimg\u001b[0m\u001b[0;34m)\u001b[0m \u001b[0;32mfor\u001b[0m \u001b[0mimg\u001b[0m \u001b[0;32min\u001b[0m \u001b[0mx_test\u001b[0m\u001b[0;34m]\u001b[0m\u001b[0;34m\u001b[0m\u001b[0m\n\u001b[0m",
      "\u001b[0;32m~/Dropbox/COGS 260/Project2/utils2.py\u001b[0m in \u001b[0;36mextract_DenseSift_descriptors\u001b[0;34m(img)\u001b[0m\n\u001b[1;32m     59\u001b[0m     \"\"\"\n\u001b[1;32m     60\u001b[0m     \u001b[0;31m# gray = cv2.cvtColor(img, cv2.COLOR_BGR2GRAY)\u001b[0m\u001b[0;34m\u001b[0m\u001b[0;34m\u001b[0m\u001b[0m\n\u001b[0;32m---> 61\u001b[0;31m     \u001b[0msift\u001b[0m \u001b[0;34m=\u001b[0m \u001b[0mcv2\u001b[0m\u001b[0;34m.\u001b[0m\u001b[0mxfeatures2d\u001b[0m\u001b[0;34m.\u001b[0m\u001b[0mSIFT_create\u001b[0m\u001b[0;34m(\u001b[0m\u001b[0;34m)\u001b[0m\u001b[0;34m\u001b[0m\u001b[0m\n\u001b[0m\u001b[1;32m     62\u001b[0m \u001b[0;34m\u001b[0m\u001b[0m\n\u001b[1;32m     63\u001b[0m     \u001b[0;31m# opencv docs DenseFeatureDetector\u001b[0m\u001b[0;34m\u001b[0m\u001b[0;34m\u001b[0m\u001b[0m\n",
      "\u001b[0;31mAttributeError\u001b[0m: module 'cv2.cv2' has no attribute 'xfeatures2d'"
     ]
    }
   ],
   "source": [
    "x_test_feature = [extract_DenseSift_descriptors(img) for img in x_test]"
   ]
  }
 ],
 "metadata": {
  "kernelspec": {
   "display_name": "Python 3",
   "language": "python",
   "name": "python3"
  },
  "language_info": {
   "codemirror_mode": {
    "name": "ipython",
    "version": 3
   },
   "file_extension": ".py",
   "mimetype": "text/x-python",
   "name": "python",
   "nbconvert_exporter": "python",
   "pygments_lexer": "ipython3",
   "version": "3.5.4"
  }
 },
 "nbformat": 4,
 "nbformat_minor": 1
}
